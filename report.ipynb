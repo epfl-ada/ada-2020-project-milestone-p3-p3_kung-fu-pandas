{
 "cells": [
  {
   "cell_type": "markdown",
   "metadata": {},
   "source": [
    "## User Behaviour on Twitter\n",
    "Unsupervised clustering and interpreting."
   ]
  },
  {
   "cell_type": "code",
   "execution_count": 1,
   "metadata": {},
   "outputs": [],
   "source": [
    "#import libs\n",
    "import numpy as np\n",
    "import matplotlib.pyplot as plt\n",
    "import pandas as pd\n",
    "import seaborn as sns\n",
    "from tqdm import  tqdm #NOT NEEDED, JUST USED WHEN WRITING THE NOTEBOOK\n",
    "pd.set_option('display.max_columns', None)"
   ]
  },
  {
   "cell_type": "code",
   "execution_count": 2,
   "metadata": {},
   "outputs": [],
   "source": [
    "#loading\n",
    "egoalter = pd.read_csv('./EgoAlterProfiles.txt',delimiter='\\t')\n",
    "#egonet = pd.read_csv('./EgoNetworks.txt',delimiter='\\t')\n",
    "egotimes = pd.read_csv('./EgoTimelines.txt',delimiter='\\t',encoding='latin-1')"
   ]
  },
  {
   "cell_type": "code",
   "execution_count": 4,
   "metadata": {},
   "outputs": [],
   "source": [
    "# Apply the default theme\n",
    "# sns.set_theme()"
   ]
  },
  {
   "cell_type": "code",
   "execution_count": 5,
   "metadata": {},
   "outputs": [
    {
     "data": {
      "text/html": [
       "<div>\n",
       "<style scoped>\n",
       "    .dataframe tbody tr th:only-of-type {\n",
       "        vertical-align: middle;\n",
       "    }\n",
       "\n",
       "    .dataframe tbody tr th {\n",
       "        vertical-align: top;\n",
       "    }\n",
       "\n",
       "    .dataframe thead th {\n",
       "        text-align: right;\n",
       "    }\n",
       "</style>\n",
       "<table border=\"1\" class=\"dataframe\">\n",
       "  <thead>\n",
       "    <tr style=\"text-align: right;\">\n",
       "      <th></th>\n",
       "      <th>ID</th>\n",
       "      <th>IsEgo</th>\n",
       "      <th>followers_count</th>\n",
       "      <th>friends_count</th>\n",
       "      <th>statuses_count</th>\n",
       "      <th>utc_offset</th>\n",
       "      <th>lang</th>\n",
       "      <th>created_at</th>\n",
       "      <th>protected</th>\n",
       "    </tr>\n",
       "  </thead>\n",
       "  <tbody>\n",
       "    <tr>\n",
       "      <th>0</th>\n",
       "      <td>1</td>\n",
       "      <td>True</td>\n",
       "      <td>30.0</td>\n",
       "      <td>28</td>\n",
       "      <td>9.0</td>\n",
       "      <td>NaN</td>\n",
       "      <td>en</td>\n",
       "      <td>Wed Oct 26 03:30:32 +0000 2011</td>\n",
       "      <td>False</td>\n",
       "    </tr>\n",
       "    <tr>\n",
       "      <th>1</th>\n",
       "      <td>2</td>\n",
       "      <td>True</td>\n",
       "      <td>2.0</td>\n",
       "      <td>8</td>\n",
       "      <td>7.0</td>\n",
       "      <td>-14400.0</td>\n",
       "      <td>en</td>\n",
       "      <td>Mon Jul 27 20:46:32 +0000 2009</td>\n",
       "      <td>False</td>\n",
       "    </tr>\n",
       "    <tr>\n",
       "      <th>2</th>\n",
       "      <td>3</td>\n",
       "      <td>True</td>\n",
       "      <td>1.0</td>\n",
       "      <td>0</td>\n",
       "      <td>0.0</td>\n",
       "      <td>NaN</td>\n",
       "      <td>fr</td>\n",
       "      <td>Mon Apr 23 20:57:26 +0000 2012</td>\n",
       "      <td>False</td>\n",
       "    </tr>\n",
       "    <tr>\n",
       "      <th>3</th>\n",
       "      <td>4</td>\n",
       "      <td>True</td>\n",
       "      <td>3.0</td>\n",
       "      <td>3</td>\n",
       "      <td>68.0</td>\n",
       "      <td>NaN</td>\n",
       "      <td>en</td>\n",
       "      <td>Sun Feb 14 07:50:39 +0000 2010</td>\n",
       "      <td>False</td>\n",
       "    </tr>\n",
       "    <tr>\n",
       "      <th>4</th>\n",
       "      <td>5</td>\n",
       "      <td>True</td>\n",
       "      <td>65.0</td>\n",
       "      <td>118</td>\n",
       "      <td>748.0</td>\n",
       "      <td>NaN</td>\n",
       "      <td>fr</td>\n",
       "      <td>Mon Jun 11 14:17:06 +0000 2012</td>\n",
       "      <td>False</td>\n",
       "    </tr>\n",
       "  </tbody>\n",
       "</table>\n",
       "</div>"
      ],
      "text/plain": [
       "   ID  IsEgo  followers_count  friends_count  statuses_count  utc_offset lang  \\\n",
       "0   1   True             30.0             28             9.0         NaN   en   \n",
       "1   2   True              2.0              8             7.0    -14400.0   en   \n",
       "2   3   True              1.0              0             0.0         NaN   fr   \n",
       "3   4   True              3.0              3            68.0         NaN   en   \n",
       "4   5   True             65.0            118           748.0         NaN   fr   \n",
       "\n",
       "                       created_at  protected  \n",
       "0  Wed Oct 26 03:30:32 +0000 2011      False  \n",
       "1  Mon Jul 27 20:46:32 +0000 2009      False  \n",
       "2  Mon Apr 23 20:57:26 +0000 2012      False  \n",
       "3  Sun Feb 14 07:50:39 +0000 2010      False  \n",
       "4  Mon Jun 11 14:17:06 +0000 2012      False  "
      ]
     },
     "execution_count": 5,
     "metadata": {},
     "output_type": "execute_result"
    }
   ],
   "source": [
    "egoalter.head()"
   ]
  },
  {
   "cell_type": "code",
   "execution_count": 6,
   "metadata": {},
   "outputs": [
    {
     "data": {
      "text/html": [
       "<div>\n",
       "<style scoped>\n",
       "    .dataframe tbody tr th:only-of-type {\n",
       "        vertical-align: middle;\n",
       "    }\n",
       "\n",
       "    .dataframe tbody tr th {\n",
       "        vertical-align: top;\n",
       "    }\n",
       "\n",
       "    .dataframe thead th {\n",
       "        text-align: right;\n",
       "    }\n",
       "</style>\n",
       "<table border=\"1\" class=\"dataframe\">\n",
       "  <thead>\n",
       "    <tr style=\"text-align: right;\">\n",
       "      <th></th>\n",
       "      <th>replyto_userid</th>\n",
       "      <th>retweeted_userid</th>\n",
       "      <th>id</th>\n",
       "      <th>tweetid</th>\n",
       "      <th>created_at</th>\n",
       "      <th>hashtags</th>\n",
       "      <th>urls</th>\n",
       "      <th>mentions_ids</th>\n",
       "      <th>retweet_count</th>\n",
       "      <th>egoID</th>\n",
       "      <th>retweetedUserID</th>\n",
       "      <th>replytoUserID</th>\n",
       "      <th>metionID</th>\n",
       "    </tr>\n",
       "  </thead>\n",
       "  <tbody>\n",
       "    <tr>\n",
       "      <th>200</th>\n",
       "      <td>NaN</td>\n",
       "      <td>NaN</td>\n",
       "      <td>605458456</td>\n",
       "      <td>523333693134622720</td>\n",
       "      <td>Sat Oct 18 04:44:10 +0000 2014</td>\n",
       "      <td>NaN</td>\n",
       "      <td>NaN</td>\n",
       "      <td>131556965</td>\n",
       "      <td>0</td>\n",
       "      <td>5</td>\n",
       "      <td>NaN</td>\n",
       "      <td>NaN</td>\n",
       "      <td>2423603</td>\n",
       "    </tr>\n",
       "    <tr>\n",
       "      <th>201</th>\n",
       "      <td>NaN</td>\n",
       "      <td>162670016.0</td>\n",
       "      <td>605458456</td>\n",
       "      <td>413801463979458560</td>\n",
       "      <td>Thu Dec 19 22:42:11 +0000 2013</td>\n",
       "      <td>NaN</td>\n",
       "      <td>NaN</td>\n",
       "      <td>162670016,424891673,324662307</td>\n",
       "      <td>5</td>\n",
       "      <td>5</td>\n",
       "      <td>NaN</td>\n",
       "      <td>NaN</td>\n",
       "      <td>1792569</td>\n",
       "    </tr>\n",
       "    <tr>\n",
       "      <th>202</th>\n",
       "      <td>NaN</td>\n",
       "      <td>NaN</td>\n",
       "      <td>605458456</td>\n",
       "      <td>527763081762717696</td>\n",
       "      <td>Thu Oct 30 10:04:58 +0000 2014</td>\n",
       "      <td>IciCestParis</td>\n",
       "      <td>NaN</td>\n",
       "      <td>NaN</td>\n",
       "      <td>0</td>\n",
       "      <td>5</td>\n",
       "      <td>NaN</td>\n",
       "      <td>NaN</td>\n",
       "      <td>NaN</td>\n",
       "    </tr>\n",
       "    <tr>\n",
       "      <th>203</th>\n",
       "      <td>NaN</td>\n",
       "      <td>NaN</td>\n",
       "      <td>605458456</td>\n",
       "      <td>527719935527878656</td>\n",
       "      <td>Thu Oct 30 07:13:31 +0000 2014</td>\n",
       "      <td>NaN</td>\n",
       "      <td>NaN</td>\n",
       "      <td>NaN</td>\n",
       "      <td>0</td>\n",
       "      <td>5</td>\n",
       "      <td>NaN</td>\n",
       "      <td>NaN</td>\n",
       "      <td>NaN</td>\n",
       "    </tr>\n",
       "    <tr>\n",
       "      <th>204</th>\n",
       "      <td>NaN</td>\n",
       "      <td>NaN</td>\n",
       "      <td>605458456</td>\n",
       "      <td>527252905972494338</td>\n",
       "      <td>Wed Oct 29 00:17:43 +0000 2014</td>\n",
       "      <td>NaN</td>\n",
       "      <td>NaN</td>\n",
       "      <td>NaN</td>\n",
       "      <td>0</td>\n",
       "      <td>5</td>\n",
       "      <td>NaN</td>\n",
       "      <td>NaN</td>\n",
       "      <td>NaN</td>\n",
       "    </tr>\n",
       "    <tr>\n",
       "      <th>...</th>\n",
       "      <td>...</td>\n",
       "      <td>...</td>\n",
       "      <td>...</td>\n",
       "      <td>...</td>\n",
       "      <td>...</td>\n",
       "      <td>...</td>\n",
       "      <td>...</td>\n",
       "      <td>...</td>\n",
       "      <td>...</td>\n",
       "      <td>...</td>\n",
       "      <td>...</td>\n",
       "      <td>...</td>\n",
       "      <td>...</td>\n",
       "    </tr>\n",
       "    <tr>\n",
       "      <th>395</th>\n",
       "      <td>NaN</td>\n",
       "      <td>NaN</td>\n",
       "      <td>605458456</td>\n",
       "      <td>424146092771778560</td>\n",
       "      <td>Fri Jan 17 11:48:03 +0000 2014</td>\n",
       "      <td>NaN</td>\n",
       "      <td>NaN</td>\n",
       "      <td>NaN</td>\n",
       "      <td>0</td>\n",
       "      <td>5</td>\n",
       "      <td>NaN</td>\n",
       "      <td>NaN</td>\n",
       "      <td>NaN</td>\n",
       "    </tr>\n",
       "    <tr>\n",
       "      <th>396</th>\n",
       "      <td>NaN</td>\n",
       "      <td>NaN</td>\n",
       "      <td>605458456</td>\n",
       "      <td>394447458828161025</td>\n",
       "      <td>Sun Oct 27 12:56:17 +0000 2013</td>\n",
       "      <td>skyrim</td>\n",
       "      <td>NaN</td>\n",
       "      <td>NaN</td>\n",
       "      <td>0</td>\n",
       "      <td>5</td>\n",
       "      <td>NaN</td>\n",
       "      <td>NaN</td>\n",
       "      <td>NaN</td>\n",
       "    </tr>\n",
       "    <tr>\n",
       "      <th>397</th>\n",
       "      <td>NaN</td>\n",
       "      <td>NaN</td>\n",
       "      <td>605458456</td>\n",
       "      <td>347778837368684544</td>\n",
       "      <td>Thu Jun 20 18:11:50 +0000 2013</td>\n",
       "      <td>NaN</td>\n",
       "      <td>http://t.co/n3Am0xdPgI</td>\n",
       "      <td>NaN</td>\n",
       "      <td>0</td>\n",
       "      <td>5</td>\n",
       "      <td>NaN</td>\n",
       "      <td>NaN</td>\n",
       "      <td>NaN</td>\n",
       "    </tr>\n",
       "    <tr>\n",
       "      <th>398</th>\n",
       "      <td>NaN</td>\n",
       "      <td>NaN</td>\n",
       "      <td>605458456</td>\n",
       "      <td>322070627999707136</td>\n",
       "      <td>Wed Apr 10 19:36:36 +0000 2013</td>\n",
       "      <td>BARCAPSG</td>\n",
       "      <td>NaN</td>\n",
       "      <td>NaN</td>\n",
       "      <td>0</td>\n",
       "      <td>5</td>\n",
       "      <td>NaN</td>\n",
       "      <td>NaN</td>\n",
       "      <td>NaN</td>\n",
       "    </tr>\n",
       "    <tr>\n",
       "      <th>399</th>\n",
       "      <td>NaN</td>\n",
       "      <td>NaN</td>\n",
       "      <td>605458456</td>\n",
       "      <td>312317491915411458</td>\n",
       "      <td>Thu Mar 14 21:41:07 +0000 2013</td>\n",
       "      <td>NaN</td>\n",
       "      <td>NaN</td>\n",
       "      <td>NaN</td>\n",
       "      <td>0</td>\n",
       "      <td>5</td>\n",
       "      <td>NaN</td>\n",
       "      <td>NaN</td>\n",
       "      <td>NaN</td>\n",
       "    </tr>\n",
       "  </tbody>\n",
       "</table>\n",
       "<p>200 rows × 13 columns</p>\n",
       "</div>"
      ],
      "text/plain": [
       "     replyto_userid  retweeted_userid         id             tweetid  \\\n",
       "200             NaN               NaN  605458456  523333693134622720   \n",
       "201             NaN       162670016.0  605458456  413801463979458560   \n",
       "202             NaN               NaN  605458456  527763081762717696   \n",
       "203             NaN               NaN  605458456  527719935527878656   \n",
       "204             NaN               NaN  605458456  527252905972494338   \n",
       "..              ...               ...        ...                 ...   \n",
       "395             NaN               NaN  605458456  424146092771778560   \n",
       "396             NaN               NaN  605458456  394447458828161025   \n",
       "397             NaN               NaN  605458456  347778837368684544   \n",
       "398             NaN               NaN  605458456  322070627999707136   \n",
       "399             NaN               NaN  605458456  312317491915411458   \n",
       "\n",
       "                         created_at      hashtags                    urls  \\\n",
       "200  Sat Oct 18 04:44:10 +0000 2014           NaN                     NaN   \n",
       "201  Thu Dec 19 22:42:11 +0000 2013           NaN                     NaN   \n",
       "202  Thu Oct 30 10:04:58 +0000 2014  IciCestParis                     NaN   \n",
       "203  Thu Oct 30 07:13:31 +0000 2014           NaN                     NaN   \n",
       "204  Wed Oct 29 00:17:43 +0000 2014           NaN                     NaN   \n",
       "..                              ...           ...                     ...   \n",
       "395  Fri Jan 17 11:48:03 +0000 2014           NaN                     NaN   \n",
       "396  Sun Oct 27 12:56:17 +0000 2013        skyrim                     NaN   \n",
       "397  Thu Jun 20 18:11:50 +0000 2013           NaN  http://t.co/n3Am0xdPgI   \n",
       "398  Wed Apr 10 19:36:36 +0000 2013      BARCAPSG                     NaN   \n",
       "399  Thu Mar 14 21:41:07 +0000 2013           NaN                     NaN   \n",
       "\n",
       "                      mentions_ids  retweet_count  egoID  retweetedUserID  \\\n",
       "200                      131556965              0      5              NaN   \n",
       "201  162670016,424891673,324662307              5      5              NaN   \n",
       "202                            NaN              0      5              NaN   \n",
       "203                            NaN              0      5              NaN   \n",
       "204                            NaN              0      5              NaN   \n",
       "..                             ...            ...    ...              ...   \n",
       "395                            NaN              0      5              NaN   \n",
       "396                            NaN              0      5              NaN   \n",
       "397                            NaN              0      5              NaN   \n",
       "398                            NaN              0      5              NaN   \n",
       "399                            NaN              0      5              NaN   \n",
       "\n",
       "     replytoUserID metionID  \n",
       "200            NaN  2423603  \n",
       "201            NaN  1792569  \n",
       "202            NaN      NaN  \n",
       "203            NaN      NaN  \n",
       "204            NaN      NaN  \n",
       "..             ...      ...  \n",
       "395            NaN      NaN  \n",
       "396            NaN      NaN  \n",
       "397            NaN      NaN  \n",
       "398            NaN      NaN  \n",
       "399            NaN      NaN  \n",
       "\n",
       "[200 rows x 13 columns]"
      ]
     },
     "execution_count": 6,
     "metadata": {},
     "output_type": "execute_result"
    }
   ],
   "source": [
    "egotimes[200:400]"
   ]
  },
  {
   "cell_type": "markdown",
   "metadata": {},
   "source": [
    "### Features used for clustering\n",
    "- followers count\n",
    "- friends count\n",
    "- followers-friends ratio\n",
    "- proportion of tweets\n",
    "- proportion of RT\n",
    "- proportion of replies\n",
    "- days since account creation\n",
    "- average number of statuses per month\n",
    "- average number of hashtags per post\n",
    "- average number of URLs per post\n",
    "- average number of mentions per post\n",
    "- average number of retweets per tweet"
   ]
  },
  {
   "cell_type": "code",
   "execution_count": 7,
   "metadata": {},
   "outputs": [],
   "source": [
    "def extract_info(df):\n",
    "    \n",
    "    n = len(df)\n",
    "    n_replies = n - np.sum(df['replyto_userid'].isnull())\n",
    "    n_rt = n - np.sum(df['retweeted_userid'].isnull())\n",
    "    mentions = df[df['mentions_ids'].notnull()].mentions_ids\n",
    "    n_mentions = len([x for xs in mentions for x in xs.split(',')])\n",
    "    \n",
    "    retweeted = np.nansum(df['retweet_count'])\n",
    "    \n",
    "    # number of hashtags\n",
    "    hashtags = df[df['hashtags'].notnull()].hashtags\n",
    "    n_hashtags = len([x for xs in hashtags for x in xs.split(',')])\n",
    "    \n",
    "    # number of urls per tweet\n",
    "    urls = df[df['urls'].notnull()].urls\n",
    "    n_urls = len([x for xs in urls for x in xs.split(',')])\n",
    "    \n",
    "    return n, n_replies, n_mentions, n_rt, n_hashtags, n_urls, retweeted"
   ]
  },
  {
   "cell_type": "code",
   "execution_count": 8,
   "metadata": {},
   "outputs": [],
   "source": [
    "isEgo = egoalter.loc[egoalter['IsEgo']]"
   ]
  },
  {
   "cell_type": "code",
   "execution_count": 9,
   "metadata": {},
   "outputs": [
    {
     "name": "stderr",
     "output_type": "stream",
     "text": [
      "17244it [03:22, 85.12it/s] \n"
     ]
    }
   ],
   "source": [
    "ego_intersect = set(egotimes['egoID'].unique()).intersection(set(isEgo['ID']))\n",
    "columns = ['id','n_statuses', 'n_replies','n_mentions','n_rt','n_hashtags','n_urls','retweeted']\n",
    "stats = pd.DataFrame(0, index=np.arange(len(ego_intersect)), columns=columns)\n",
    "\n",
    "for i, _id in tqdm(enumerate(ego_intersect)):\n",
    "    n, n_replies, n_mentions, n_rt, n_hashtags, n_urls, retweeted = extract_info(egotimes.loc[egotimes['egoID']==_id])\n",
    "    stats.iloc[i].id = _id\n",
    "    stats.iloc[i].n_statuses = n\n",
    "    stats.iloc[i].n_replies = n_replies\n",
    "    stats.iloc[i].n_mentions = n_mentions\n",
    "    stats.iloc[i].n_rt = n_rt\n",
    "    stats.iloc[i].n_hashtags = n_hashtags\n",
    "    stats.iloc[i].n_urls = n_urls\n",
    "    stats.iloc[i].retweeted = retweeted"
   ]
  },
  {
   "cell_type": "code",
   "execution_count": 10,
   "metadata": {},
   "outputs": [
    {
     "data": {
      "text/html": [
       "<div>\n",
       "<style scoped>\n",
       "    .dataframe tbody tr th:only-of-type {\n",
       "        vertical-align: middle;\n",
       "    }\n",
       "\n",
       "    .dataframe tbody tr th {\n",
       "        vertical-align: top;\n",
       "    }\n",
       "\n",
       "    .dataframe thead th {\n",
       "        text-align: right;\n",
       "    }\n",
       "</style>\n",
       "<table border=\"1\" class=\"dataframe\">\n",
       "  <thead>\n",
       "    <tr style=\"text-align: right;\">\n",
       "      <th></th>\n",
       "      <th>ID</th>\n",
       "      <th>IsEgo</th>\n",
       "      <th>followers_count</th>\n",
       "      <th>friends_count</th>\n",
       "      <th>statuses_count</th>\n",
       "      <th>utc_offset</th>\n",
       "      <th>lang</th>\n",
       "      <th>created_at</th>\n",
       "      <th>protected</th>\n",
       "      <th>id</th>\n",
       "      <th>n_statuses</th>\n",
       "      <th>n_replies</th>\n",
       "      <th>n_mentions</th>\n",
       "      <th>n_rt</th>\n",
       "      <th>n_hashtags</th>\n",
       "      <th>n_urls</th>\n",
       "      <th>retweeted</th>\n",
       "    </tr>\n",
       "  </thead>\n",
       "  <tbody>\n",
       "    <tr>\n",
       "      <th>0</th>\n",
       "      <td>1</td>\n",
       "      <td>True</td>\n",
       "      <td>30.0</td>\n",
       "      <td>28</td>\n",
       "      <td>9.0</td>\n",
       "      <td>NaN</td>\n",
       "      <td>en</td>\n",
       "      <td>Wed Oct 26 03:30:32 +0000 2011</td>\n",
       "      <td>False</td>\n",
       "      <td>1.0</td>\n",
       "      <td>9.0</td>\n",
       "      <td>4.0</td>\n",
       "      <td>8.0</td>\n",
       "      <td>0.0</td>\n",
       "      <td>0.0</td>\n",
       "      <td>0.0</td>\n",
       "      <td>0.0</td>\n",
       "    </tr>\n",
       "    <tr>\n",
       "      <th>1</th>\n",
       "      <td>2</td>\n",
       "      <td>True</td>\n",
       "      <td>2.0</td>\n",
       "      <td>8</td>\n",
       "      <td>7.0</td>\n",
       "      <td>-14400.0</td>\n",
       "      <td>en</td>\n",
       "      <td>Mon Jul 27 20:46:32 +0000 2009</td>\n",
       "      <td>False</td>\n",
       "      <td>2.0</td>\n",
       "      <td>7.0</td>\n",
       "      <td>2.0</td>\n",
       "      <td>2.0</td>\n",
       "      <td>0.0</td>\n",
       "      <td>1.0</td>\n",
       "      <td>3.0</td>\n",
       "      <td>0.0</td>\n",
       "    </tr>\n",
       "    <tr>\n",
       "      <th>2</th>\n",
       "      <td>3</td>\n",
       "      <td>True</td>\n",
       "      <td>1.0</td>\n",
       "      <td>0</td>\n",
       "      <td>0.0</td>\n",
       "      <td>NaN</td>\n",
       "      <td>fr</td>\n",
       "      <td>Mon Apr 23 20:57:26 +0000 2012</td>\n",
       "      <td>False</td>\n",
       "      <td>NaN</td>\n",
       "      <td>NaN</td>\n",
       "      <td>NaN</td>\n",
       "      <td>NaN</td>\n",
       "      <td>NaN</td>\n",
       "      <td>NaN</td>\n",
       "      <td>NaN</td>\n",
       "      <td>NaN</td>\n",
       "    </tr>\n",
       "    <tr>\n",
       "      <th>3</th>\n",
       "      <td>4</td>\n",
       "      <td>True</td>\n",
       "      <td>3.0</td>\n",
       "      <td>3</td>\n",
       "      <td>68.0</td>\n",
       "      <td>NaN</td>\n",
       "      <td>en</td>\n",
       "      <td>Sun Feb 14 07:50:39 +0000 2010</td>\n",
       "      <td>False</td>\n",
       "      <td>4.0</td>\n",
       "      <td>68.0</td>\n",
       "      <td>0.0</td>\n",
       "      <td>0.0</td>\n",
       "      <td>0.0</td>\n",
       "      <td>0.0</td>\n",
       "      <td>60.0</td>\n",
       "      <td>0.0</td>\n",
       "    </tr>\n",
       "    <tr>\n",
       "      <th>4</th>\n",
       "      <td>5</td>\n",
       "      <td>True</td>\n",
       "      <td>65.0</td>\n",
       "      <td>118</td>\n",
       "      <td>748.0</td>\n",
       "      <td>NaN</td>\n",
       "      <td>fr</td>\n",
       "      <td>Mon Jun 11 14:17:06 +0000 2012</td>\n",
       "      <td>False</td>\n",
       "      <td>5.0</td>\n",
       "      <td>742.0</td>\n",
       "      <td>334.0</td>\n",
       "      <td>375.0</td>\n",
       "      <td>103.0</td>\n",
       "      <td>118.0</td>\n",
       "      <td>29.0</td>\n",
       "      <td>26408.0</td>\n",
       "    </tr>\n",
       "  </tbody>\n",
       "</table>\n",
       "</div>"
      ],
      "text/plain": [
       "   ID  IsEgo  followers_count  friends_count  statuses_count  utc_offset lang  \\\n",
       "0   1   True             30.0             28             9.0         NaN   en   \n",
       "1   2   True              2.0              8             7.0    -14400.0   en   \n",
       "2   3   True              1.0              0             0.0         NaN   fr   \n",
       "3   4   True              3.0              3            68.0         NaN   en   \n",
       "4   5   True             65.0            118           748.0         NaN   fr   \n",
       "\n",
       "                       created_at  protected   id  n_statuses  n_replies  \\\n",
       "0  Wed Oct 26 03:30:32 +0000 2011      False  1.0         9.0        4.0   \n",
       "1  Mon Jul 27 20:46:32 +0000 2009      False  2.0         7.0        2.0   \n",
       "2  Mon Apr 23 20:57:26 +0000 2012      False  NaN         NaN        NaN   \n",
       "3  Sun Feb 14 07:50:39 +0000 2010      False  4.0        68.0        0.0   \n",
       "4  Mon Jun 11 14:17:06 +0000 2012      False  5.0       742.0      334.0   \n",
       "\n",
       "   n_mentions   n_rt  n_hashtags  n_urls  retweeted  \n",
       "0         8.0    0.0         0.0     0.0        0.0  \n",
       "1         2.0    0.0         1.0     3.0        0.0  \n",
       "2         NaN    NaN         NaN     NaN        NaN  \n",
       "3         0.0    0.0         0.0    60.0        0.0  \n",
       "4       375.0  103.0       118.0    29.0    26408.0  "
      ]
     },
     "execution_count": 10,
     "metadata": {},
     "output_type": "execute_result"
    }
   ],
   "source": [
    "merged = isEgo.merge(stats, how='left', left_on='ID', right_on='id')\n",
    "merged.head()"
   ]
  },
  {
   "cell_type": "code",
   "execution_count": 11,
   "metadata": {},
   "outputs": [
    {
     "data": {
      "text/html": [
       "<div>\n",
       "<style scoped>\n",
       "    .dataframe tbody tr th:only-of-type {\n",
       "        vertical-align: middle;\n",
       "    }\n",
       "\n",
       "    .dataframe tbody tr th {\n",
       "        vertical-align: top;\n",
       "    }\n",
       "\n",
       "    .dataframe thead th {\n",
       "        text-align: right;\n",
       "    }\n",
       "</style>\n",
       "<table border=\"1\" class=\"dataframe\">\n",
       "  <thead>\n",
       "    <tr style=\"text-align: right;\">\n",
       "      <th></th>\n",
       "      <th>ID</th>\n",
       "      <th>IsEgo</th>\n",
       "      <th>followers_count</th>\n",
       "      <th>friends_count</th>\n",
       "      <th>statuses_count</th>\n",
       "      <th>utc_offset</th>\n",
       "      <th>lang</th>\n",
       "      <th>created_at</th>\n",
       "      <th>protected</th>\n",
       "      <th>id</th>\n",
       "      <th>n_statuses</th>\n",
       "      <th>n_replies</th>\n",
       "      <th>n_mentions</th>\n",
       "      <th>n_rt</th>\n",
       "      <th>n_hashtags</th>\n",
       "      <th>n_urls</th>\n",
       "      <th>retweeted</th>\n",
       "      <th>followers_ratio</th>\n",
       "      <th>n_tweets</th>\n",
       "      <th>prop_tweets</th>\n",
       "      <th>prop_replies</th>\n",
       "      <th>prop_rt</th>\n",
       "      <th>avg_hashtags</th>\n",
       "      <th>avg_urls</th>\n",
       "      <th>avg_mentions</th>\n",
       "      <th>avg_retweeted</th>\n",
       "      <th>account_age_months</th>\n",
       "      <th>statuses_per_month</th>\n",
       "    </tr>\n",
       "  </thead>\n",
       "  <tbody>\n",
       "    <tr>\n",
       "      <th>0</th>\n",
       "      <td>1</td>\n",
       "      <td>True</td>\n",
       "      <td>30.0</td>\n",
       "      <td>28</td>\n",
       "      <td>9.0</td>\n",
       "      <td>NaN</td>\n",
       "      <td>en</td>\n",
       "      <td>2011-10-26 03:30:32+00:00</td>\n",
       "      <td>False</td>\n",
       "      <td>1.0</td>\n",
       "      <td>9.0</td>\n",
       "      <td>4.0</td>\n",
       "      <td>8.0</td>\n",
       "      <td>0.0</td>\n",
       "      <td>0.0</td>\n",
       "      <td>0.0</td>\n",
       "      <td>0.0</td>\n",
       "      <td>1.071046</td>\n",
       "      <td>5.0</td>\n",
       "      <td>0.555556</td>\n",
       "      <td>0.444444</td>\n",
       "      <td>0.000000</td>\n",
       "      <td>0.000000</td>\n",
       "      <td>0.000000</td>\n",
       "      <td>0.888889</td>\n",
       "      <td>0.000000</td>\n",
       "      <td>36.676667</td>\n",
       "      <td>0.245388</td>\n",
       "    </tr>\n",
       "    <tr>\n",
       "      <th>1</th>\n",
       "      <td>2</td>\n",
       "      <td>True</td>\n",
       "      <td>2.0</td>\n",
       "      <td>8</td>\n",
       "      <td>7.0</td>\n",
       "      <td>-14400.0</td>\n",
       "      <td>en</td>\n",
       "      <td>2009-07-27 20:46:32+00:00</td>\n",
       "      <td>False</td>\n",
       "      <td>2.0</td>\n",
       "      <td>7.0</td>\n",
       "      <td>2.0</td>\n",
       "      <td>2.0</td>\n",
       "      <td>0.0</td>\n",
       "      <td>1.0</td>\n",
       "      <td>3.0</td>\n",
       "      <td>0.0</td>\n",
       "      <td>0.249688</td>\n",
       "      <td>5.0</td>\n",
       "      <td>0.714286</td>\n",
       "      <td>0.285714</td>\n",
       "      <td>0.000000</td>\n",
       "      <td>0.142857</td>\n",
       "      <td>0.428571</td>\n",
       "      <td>0.285714</td>\n",
       "      <td>0.000000</td>\n",
       "      <td>64.010000</td>\n",
       "      <td>0.109358</td>\n",
       "    </tr>\n",
       "    <tr>\n",
       "      <th>2</th>\n",
       "      <td>3</td>\n",
       "      <td>True</td>\n",
       "      <td>1.0</td>\n",
       "      <td>0</td>\n",
       "      <td>0.0</td>\n",
       "      <td>NaN</td>\n",
       "      <td>fr</td>\n",
       "      <td>2012-04-23 20:57:26+00:00</td>\n",
       "      <td>False</td>\n",
       "      <td>NaN</td>\n",
       "      <td>NaN</td>\n",
       "      <td>NaN</td>\n",
       "      <td>NaN</td>\n",
       "      <td>NaN</td>\n",
       "      <td>NaN</td>\n",
       "      <td>NaN</td>\n",
       "      <td>NaN</td>\n",
       "      <td>100.000000</td>\n",
       "      <td>NaN</td>\n",
       "      <td>NaN</td>\n",
       "      <td>NaN</td>\n",
       "      <td>NaN</td>\n",
       "      <td>NaN</td>\n",
       "      <td>NaN</td>\n",
       "      <td>NaN</td>\n",
       "      <td>NaN</td>\n",
       "      <td>30.643333</td>\n",
       "      <td>0.000000</td>\n",
       "    </tr>\n",
       "    <tr>\n",
       "      <th>3</th>\n",
       "      <td>4</td>\n",
       "      <td>True</td>\n",
       "      <td>3.0</td>\n",
       "      <td>3</td>\n",
       "      <td>68.0</td>\n",
       "      <td>NaN</td>\n",
       "      <td>en</td>\n",
       "      <td>2010-02-14 07:50:39+00:00</td>\n",
       "      <td>False</td>\n",
       "      <td>4.0</td>\n",
       "      <td>68.0</td>\n",
       "      <td>0.0</td>\n",
       "      <td>0.0</td>\n",
       "      <td>0.0</td>\n",
       "      <td>0.0</td>\n",
       "      <td>60.0</td>\n",
       "      <td>0.0</td>\n",
       "      <td>0.996678</td>\n",
       "      <td>68.0</td>\n",
       "      <td>1.000000</td>\n",
       "      <td>0.000000</td>\n",
       "      <td>0.000000</td>\n",
       "      <td>0.000000</td>\n",
       "      <td>0.882353</td>\n",
       "      <td>0.000000</td>\n",
       "      <td>0.000000</td>\n",
       "      <td>57.310000</td>\n",
       "      <td>1.186529</td>\n",
       "    </tr>\n",
       "    <tr>\n",
       "      <th>4</th>\n",
       "      <td>5</td>\n",
       "      <td>True</td>\n",
       "      <td>65.0</td>\n",
       "      <td>118</td>\n",
       "      <td>748.0</td>\n",
       "      <td>NaN</td>\n",
       "      <td>fr</td>\n",
       "      <td>2012-06-11 14:17:06+00:00</td>\n",
       "      <td>False</td>\n",
       "      <td>5.0</td>\n",
       "      <td>742.0</td>\n",
       "      <td>334.0</td>\n",
       "      <td>375.0</td>\n",
       "      <td>103.0</td>\n",
       "      <td>118.0</td>\n",
       "      <td>29.0</td>\n",
       "      <td>26408.0</td>\n",
       "      <td>0.550801</td>\n",
       "      <td>305.0</td>\n",
       "      <td>0.411051</td>\n",
       "      <td>0.450135</td>\n",
       "      <td>0.138814</td>\n",
       "      <td>0.159030</td>\n",
       "      <td>0.039084</td>\n",
       "      <td>0.505391</td>\n",
       "      <td>86.583607</td>\n",
       "      <td>29.010000</td>\n",
       "      <td>25.784212</td>\n",
       "    </tr>\n",
       "  </tbody>\n",
       "</table>\n",
       "</div>"
      ],
      "text/plain": [
       "   ID  IsEgo  followers_count  friends_count  statuses_count  utc_offset lang  \\\n",
       "0   1   True             30.0             28             9.0         NaN   en   \n",
       "1   2   True              2.0              8             7.0    -14400.0   en   \n",
       "2   3   True              1.0              0             0.0         NaN   fr   \n",
       "3   4   True              3.0              3            68.0         NaN   en   \n",
       "4   5   True             65.0            118           748.0         NaN   fr   \n",
       "\n",
       "                 created_at  protected   id  n_statuses  n_replies  \\\n",
       "0 2011-10-26 03:30:32+00:00      False  1.0         9.0        4.0   \n",
       "1 2009-07-27 20:46:32+00:00      False  2.0         7.0        2.0   \n",
       "2 2012-04-23 20:57:26+00:00      False  NaN         NaN        NaN   \n",
       "3 2010-02-14 07:50:39+00:00      False  4.0        68.0        0.0   \n",
       "4 2012-06-11 14:17:06+00:00      False  5.0       742.0      334.0   \n",
       "\n",
       "   n_mentions   n_rt  n_hashtags  n_urls  retweeted  followers_ratio  \\\n",
       "0         8.0    0.0         0.0     0.0        0.0         1.071046   \n",
       "1         2.0    0.0         1.0     3.0        0.0         0.249688   \n",
       "2         NaN    NaN         NaN     NaN        NaN       100.000000   \n",
       "3         0.0    0.0         0.0    60.0        0.0         0.996678   \n",
       "4       375.0  103.0       118.0    29.0    26408.0         0.550801   \n",
       "\n",
       "   n_tweets  prop_tweets  prop_replies   prop_rt  avg_hashtags  avg_urls  \\\n",
       "0       5.0     0.555556      0.444444  0.000000      0.000000  0.000000   \n",
       "1       5.0     0.714286      0.285714  0.000000      0.142857  0.428571   \n",
       "2       NaN          NaN           NaN       NaN           NaN       NaN   \n",
       "3      68.0     1.000000      0.000000  0.000000      0.000000  0.882353   \n",
       "4     305.0     0.411051      0.450135  0.138814      0.159030  0.039084   \n",
       "\n",
       "   avg_mentions  avg_retweeted  account_age_months  statuses_per_month  \n",
       "0      0.888889       0.000000           36.676667            0.245388  \n",
       "1      0.285714       0.000000           64.010000            0.109358  \n",
       "2           NaN            NaN           30.643333            0.000000  \n",
       "3      0.000000       0.000000           57.310000            1.186529  \n",
       "4      0.505391      86.583607           29.010000           25.784212  "
      ]
     },
     "execution_count": 11,
     "metadata": {},
     "output_type": "execute_result"
    }
   ],
   "source": [
    "inactive = (merged.friends_count == 0) & (merged.followers_count == 0)\n",
    "merged['followers_ratio'] = (merged['followers_count']/(merged['friends_count'] + 0.01))\n",
    "merged.loc[inactive,'followers_ratio'] = 1\n",
    "\n",
    "merged['n_tweets'] = merged['n_statuses'] - merged['n_replies'] - merged['n_rt']\n",
    "merged['prop_tweets'] = merged['n_tweets']/merged['n_statuses']\n",
    "merged['prop_replies'] = merged['n_replies']/merged['n_statuses']\n",
    "merged['prop_rt'] = merged['n_rt']/merged['n_statuses']\n",
    "merged['avg_hashtags'] = merged['n_hashtags']/merged['n_statuses']\n",
    "merged['avg_urls'] = merged['n_urls']/merged['n_statuses']\n",
    "merged['avg_mentions'] = merged['n_mentions']/merged['n_statuses']\n",
    "merged['avg_retweeted'] = (merged['retweeted']/merged['n_tweets']).replace(np.inf, 0)\n",
    "merged['created_at'] = pd.to_datetime(merged['created_at'], format='%a %b %d %H:%M:%S %z %Y')\n",
    "end_date = merged.created_at.max()\n",
    "merged['account_age_months'] = ((end_date - merged.created_at).dt.days/30) + 0.01\n",
    "merged['statuses_per_month'] = merged['statuses_count']/merged['account_age_months']\n",
    "merged.head()"
   ]
  },
  {
   "cell_type": "code",
   "execution_count": 12,
   "metadata": {},
   "outputs": [],
   "source": [
    "cols = ['ID','followers_count','friends_count','statuses_count', 'account_age_months',\n",
    "        'statuses_per_month','followers_ratio','prop_tweets', 'prop_replies','prop_rt',\n",
    "        'avg_hashtags','avg_urls','avg_mentions']\n",
    "features = merged[cols].fillna(0)"
   ]
  },
  {
   "cell_type": "code",
   "execution_count": 13,
   "metadata": {},
   "outputs": [
    {
     "data": {
      "text/html": [
       "<div>\n",
       "<style scoped>\n",
       "    .dataframe tbody tr th:only-of-type {\n",
       "        vertical-align: middle;\n",
       "    }\n",
       "\n",
       "    .dataframe tbody tr th {\n",
       "        vertical-align: top;\n",
       "    }\n",
       "\n",
       "    .dataframe thead th {\n",
       "        text-align: right;\n",
       "    }\n",
       "</style>\n",
       "<table border=\"1\" class=\"dataframe\">\n",
       "  <thead>\n",
       "    <tr style=\"text-align: right;\">\n",
       "      <th></th>\n",
       "      <th>followers_count</th>\n",
       "      <th>friends_count</th>\n",
       "      <th>statuses_count</th>\n",
       "      <th>account_age_months</th>\n",
       "      <th>statuses_per_month</th>\n",
       "      <th>followers_ratio</th>\n",
       "      <th>prop_tweets</th>\n",
       "      <th>prop_replies</th>\n",
       "      <th>prop_rt</th>\n",
       "      <th>avg_hashtags</th>\n",
       "      <th>avg_urls</th>\n",
       "      <th>avg_mentions</th>\n",
       "    </tr>\n",
       "  </thead>\n",
       "  <tbody>\n",
       "    <tr>\n",
       "      <th>count</th>\n",
       "      <td>34006.000000</td>\n",
       "      <td>34006.000000</td>\n",
       "      <td>3.400600e+04</td>\n",
       "      <td>34006.000000</td>\n",
       "      <td>34006.000000</td>\n",
       "      <td>34006.000000</td>\n",
       "      <td>34006.000000</td>\n",
       "      <td>34006.000000</td>\n",
       "      <td>34006.000000</td>\n",
       "      <td>34006.000000</td>\n",
       "      <td>34006.000000</td>\n",
       "      <td>34006.000000</td>\n",
       "    </tr>\n",
       "    <tr>\n",
       "      <th>mean</th>\n",
       "      <td>56.604511</td>\n",
       "      <td>68.490061</td>\n",
       "      <td>4.483272e+02</td>\n",
       "      <td>26.648642</td>\n",
       "      <td>16.856397</td>\n",
       "      <td>39.142005</td>\n",
       "      <td>0.323153</td>\n",
       "      <td>0.115620</td>\n",
       "      <td>0.068313</td>\n",
       "      <td>0.094698</td>\n",
       "      <td>0.096359</td>\n",
       "      <td>0.249363</td>\n",
       "    </tr>\n",
       "    <tr>\n",
       "      <th>std</th>\n",
       "      <td>953.436514</td>\n",
       "      <td>344.940809</td>\n",
       "      <td>6.748816e+03</td>\n",
       "      <td>18.094187</td>\n",
       "      <td>174.167148</td>\n",
       "      <td>1879.330302</td>\n",
       "      <td>0.410767</td>\n",
       "      <td>0.245612</td>\n",
       "      <td>0.189213</td>\n",
       "      <td>0.330004</td>\n",
       "      <td>0.256844</td>\n",
       "      <td>0.448269</td>\n",
       "    </tr>\n",
       "    <tr>\n",
       "      <th>min</th>\n",
       "      <td>0.000000</td>\n",
       "      <td>0.000000</td>\n",
       "      <td>0.000000e+00</td>\n",
       "      <td>0.010000</td>\n",
       "      <td>0.000000</td>\n",
       "      <td>0.000000</td>\n",
       "      <td>0.000000</td>\n",
       "      <td>0.000000</td>\n",
       "      <td>0.000000</td>\n",
       "      <td>0.000000</td>\n",
       "      <td>0.000000</td>\n",
       "      <td>0.000000</td>\n",
       "    </tr>\n",
       "    <tr>\n",
       "      <th>25%</th>\n",
       "      <td>0.000000</td>\n",
       "      <td>1.000000</td>\n",
       "      <td>0.000000e+00</td>\n",
       "      <td>11.643333</td>\n",
       "      <td>0.000000</td>\n",
       "      <td>0.052604</td>\n",
       "      <td>0.000000</td>\n",
       "      <td>0.000000</td>\n",
       "      <td>0.000000</td>\n",
       "      <td>0.000000</td>\n",
       "      <td>0.000000</td>\n",
       "      <td>0.000000</td>\n",
       "    </tr>\n",
       "    <tr>\n",
       "      <th>50%</th>\n",
       "      <td>1.000000</td>\n",
       "      <td>8.000000</td>\n",
       "      <td>1.000000e+00</td>\n",
       "      <td>23.876667</td>\n",
       "      <td>0.035150</td>\n",
       "      <td>0.363306</td>\n",
       "      <td>0.000000</td>\n",
       "      <td>0.000000</td>\n",
       "      <td>0.000000</td>\n",
       "      <td>0.000000</td>\n",
       "      <td>0.000000</td>\n",
       "      <td>0.000000</td>\n",
       "    </tr>\n",
       "    <tr>\n",
       "      <th>75%</th>\n",
       "      <td>8.000000</td>\n",
       "      <td>37.000000</td>\n",
       "      <td>1.100000e+01</td>\n",
       "      <td>39.043333</td>\n",
       "      <td>0.671855</td>\n",
       "      <td>1.000000</td>\n",
       "      <td>0.727273</td>\n",
       "      <td>0.067467</td>\n",
       "      <td>0.000000</td>\n",
       "      <td>0.000000</td>\n",
       "      <td>0.001258</td>\n",
       "      <td>0.422831</td>\n",
       "    </tr>\n",
       "    <tr>\n",
       "      <th>max</th>\n",
       "      <td>124195.000000</td>\n",
       "      <td>24956.000000</td>\n",
       "      <td>1.082327e+06</td>\n",
       "      <td>104.476667</td>\n",
       "      <td>22893.471057</td>\n",
       "      <td>253800.000000</td>\n",
       "      <td>1.000000</td>\n",
       "      <td>1.000000</td>\n",
       "      <td>1.000000</td>\n",
       "      <td>12.000000</td>\n",
       "      <td>4.000000</td>\n",
       "      <td>8.500000</td>\n",
       "    </tr>\n",
       "  </tbody>\n",
       "</table>\n",
       "</div>"
      ],
      "text/plain": [
       "       followers_count  friends_count  statuses_count  account_age_months  \\\n",
       "count     34006.000000   34006.000000    3.400600e+04        34006.000000   \n",
       "mean         56.604511      68.490061    4.483272e+02           26.648642   \n",
       "std         953.436514     344.940809    6.748816e+03           18.094187   \n",
       "min           0.000000       0.000000    0.000000e+00            0.010000   \n",
       "25%           0.000000       1.000000    0.000000e+00           11.643333   \n",
       "50%           1.000000       8.000000    1.000000e+00           23.876667   \n",
       "75%           8.000000      37.000000    1.100000e+01           39.043333   \n",
       "max      124195.000000   24956.000000    1.082327e+06          104.476667   \n",
       "\n",
       "       statuses_per_month  followers_ratio   prop_tweets  prop_replies  \\\n",
       "count        34006.000000     34006.000000  34006.000000  34006.000000   \n",
       "mean            16.856397        39.142005      0.323153      0.115620   \n",
       "std            174.167148      1879.330302      0.410767      0.245612   \n",
       "min              0.000000         0.000000      0.000000      0.000000   \n",
       "25%              0.000000         0.052604      0.000000      0.000000   \n",
       "50%              0.035150         0.363306      0.000000      0.000000   \n",
       "75%              0.671855         1.000000      0.727273      0.067467   \n",
       "max          22893.471057    253800.000000      1.000000      1.000000   \n",
       "\n",
       "            prop_rt  avg_hashtags      avg_urls  avg_mentions  \n",
       "count  34006.000000  34006.000000  34006.000000  34006.000000  \n",
       "mean       0.068313      0.094698      0.096359      0.249363  \n",
       "std        0.189213      0.330004      0.256844      0.448269  \n",
       "min        0.000000      0.000000      0.000000      0.000000  \n",
       "25%        0.000000      0.000000      0.000000      0.000000  \n",
       "50%        0.000000      0.000000      0.000000      0.000000  \n",
       "75%        0.000000      0.000000      0.001258      0.422831  \n",
       "max        1.000000     12.000000      4.000000      8.500000  "
      ]
     },
     "execution_count": 13,
     "metadata": {},
     "output_type": "execute_result"
    }
   ],
   "source": [
    "features.set_index('ID').describe()"
   ]
  },
  {
   "cell_type": "markdown",
   "metadata": {},
   "source": [
    "## Feature scaling and clustering"
   ]
  },
  {
   "cell_type": "code",
   "execution_count": 14,
   "metadata": {},
   "outputs": [],
   "source": [
    "from sklearn.cluster import KMeans\n",
    "from sklearn import preprocessing\n",
    "from scipy.spatial.distance import cdist \n",
    "from sklearn import metrics "
   ]
  },
  {
   "cell_type": "code",
   "execution_count": 15,
   "metadata": {},
   "outputs": [],
   "source": [
    "#standardize values\n",
    "\n",
    "standardize = preprocessing.StandardScaler()\n",
    "std_df = standardize.fit_transform(features.iloc[:,1:])\n",
    "std_df = pd.DataFrame(std_df, columns=features.iloc[:,1:].columns)\n",
    "\n",
    "#de-standardize to get back original values"
   ]
  },
  {
   "cell_type": "code",
   "execution_count": 16,
   "metadata": {},
   "outputs": [
    {
     "data": {
      "text/html": [
       "<div>\n",
       "<style scoped>\n",
       "    .dataframe tbody tr th:only-of-type {\n",
       "        vertical-align: middle;\n",
       "    }\n",
       "\n",
       "    .dataframe tbody tr th {\n",
       "        vertical-align: top;\n",
       "    }\n",
       "\n",
       "    .dataframe thead th {\n",
       "        text-align: right;\n",
       "    }\n",
       "</style>\n",
       "<table border=\"1\" class=\"dataframe\">\n",
       "  <thead>\n",
       "    <tr style=\"text-align: right;\">\n",
       "      <th></th>\n",
       "      <th>followers_count</th>\n",
       "      <th>friends_count</th>\n",
       "      <th>statuses_count</th>\n",
       "      <th>account_age_months</th>\n",
       "      <th>statuses_per_month</th>\n",
       "      <th>followers_ratio</th>\n",
       "      <th>prop_tweets</th>\n",
       "      <th>prop_replies</th>\n",
       "      <th>prop_rt</th>\n",
       "      <th>avg_hashtags</th>\n",
       "      <th>avg_urls</th>\n",
       "      <th>avg_mentions</th>\n",
       "    </tr>\n",
       "  </thead>\n",
       "  <tbody>\n",
       "    <tr>\n",
       "      <th>0</th>\n",
       "      <td>-0.027904</td>\n",
       "      <td>-0.117384</td>\n",
       "      <td>-0.065098</td>\n",
       "      <td>0.554221</td>\n",
       "      <td>-0.095375</td>\n",
       "      <td>-0.020258</td>\n",
       "      <td>0.565785</td>\n",
       "      <td>1.338813</td>\n",
       "      <td>-0.361044</td>\n",
       "      <td>-0.286965</td>\n",
       "      <td>-0.375169</td>\n",
       "      <td>1.426678</td>\n",
       "    </tr>\n",
       "    <tr>\n",
       "      <th>1</th>\n",
       "      <td>-0.057272</td>\n",
       "      <td>-0.175366</td>\n",
       "      <td>-0.065394</td>\n",
       "      <td>2.064857</td>\n",
       "      <td>-0.096156</td>\n",
       "      <td>-0.020695</td>\n",
       "      <td>0.952215</td>\n",
       "      <td>0.692540</td>\n",
       "      <td>-0.361044</td>\n",
       "      <td>0.145936</td>\n",
       "      <td>1.293462</td>\n",
       "      <td>0.081094</td>\n",
       "    </tr>\n",
       "    <tr>\n",
       "      <th>2</th>\n",
       "      <td>-0.058321</td>\n",
       "      <td>-0.198559</td>\n",
       "      <td>-0.066431</td>\n",
       "      <td>0.220775</td>\n",
       "      <td>-0.096784</td>\n",
       "      <td>0.032383</td>\n",
       "      <td>-0.786719</td>\n",
       "      <td>-0.470751</td>\n",
       "      <td>-0.361044</td>\n",
       "      <td>-0.286965</td>\n",
       "      <td>-0.375169</td>\n",
       "      <td>-0.556289</td>\n",
       "    </tr>\n",
       "    <tr>\n",
       "      <th>3</th>\n",
       "      <td>-0.056223</td>\n",
       "      <td>-0.189862</td>\n",
       "      <td>-0.056355</td>\n",
       "      <td>1.694567</td>\n",
       "      <td>-0.089972</td>\n",
       "      <td>-0.020298</td>\n",
       "      <td>1.647788</td>\n",
       "      <td>-0.470751</td>\n",
       "      <td>-0.361044</td>\n",
       "      <td>-0.286965</td>\n",
       "      <td>3.060248</td>\n",
       "      <td>-0.556289</td>\n",
       "    </tr>\n",
       "    <tr>\n",
       "      <th>4</th>\n",
       "      <td>0.008806</td>\n",
       "      <td>0.143534</td>\n",
       "      <td>0.044404</td>\n",
       "      <td>0.130506</td>\n",
       "      <td>0.051261</td>\n",
       "      <td>-0.020535</td>\n",
       "      <td>0.213988</td>\n",
       "      <td>1.361981</td>\n",
       "      <td>0.372604</td>\n",
       "      <td>0.194944</td>\n",
       "      <td>-0.222999</td>\n",
       "      <td>0.571156</td>\n",
       "    </tr>\n",
       "    <tr>\n",
       "      <th>...</th>\n",
       "      <td>...</td>\n",
       "      <td>...</td>\n",
       "      <td>...</td>\n",
       "      <td>...</td>\n",
       "      <td>...</td>\n",
       "      <td>...</td>\n",
       "      <td>...</td>\n",
       "      <td>...</td>\n",
       "      <td>...</td>\n",
       "      <td>...</td>\n",
       "      <td>...</td>\n",
       "      <td>...</td>\n",
       "    </tr>\n",
       "    <tr>\n",
       "      <th>34001</th>\n",
       "      <td>-0.059370</td>\n",
       "      <td>-0.198559</td>\n",
       "      <td>-0.066431</td>\n",
       "      <td>-1.002472</td>\n",
       "      <td>-0.096784</td>\n",
       "      <td>-0.020296</td>\n",
       "      <td>-0.786719</td>\n",
       "      <td>-0.470751</td>\n",
       "      <td>-0.361044</td>\n",
       "      <td>-0.286965</td>\n",
       "      <td>-0.375169</td>\n",
       "      <td>-0.556289</td>\n",
       "    </tr>\n",
       "    <tr>\n",
       "      <th>34002</th>\n",
       "      <td>0.144108</td>\n",
       "      <td>0.076855</td>\n",
       "      <td>-0.011606</td>\n",
       "      <td>-1.113006</td>\n",
       "      <td>0.229549</td>\n",
       "      <td>-0.019741</td>\n",
       "      <td>-0.296755</td>\n",
       "      <td>-0.445144</td>\n",
       "      <td>3.827161</td>\n",
       "      <td>0.827959</td>\n",
       "      <td>-0.338439</td>\n",
       "      <td>2.172629</td>\n",
       "    </tr>\n",
       "    <tr>\n",
       "      <th>34003</th>\n",
       "      <td>-0.059370</td>\n",
       "      <td>-0.198559</td>\n",
       "      <td>-0.066431</td>\n",
       "      <td>-0.691133</td>\n",
       "      <td>-0.096784</td>\n",
       "      <td>-0.020296</td>\n",
       "      <td>-0.786719</td>\n",
       "      <td>-0.470751</td>\n",
       "      <td>-0.361044</td>\n",
       "      <td>-0.286965</td>\n",
       "      <td>-0.375169</td>\n",
       "      <td>-0.556289</td>\n",
       "    </tr>\n",
       "    <tr>\n",
       "      <th>34004</th>\n",
       "      <td>-0.058321</td>\n",
       "      <td>-0.143476</td>\n",
       "      <td>-0.066431</td>\n",
       "      <td>-0.936151</td>\n",
       "      <td>-0.096784</td>\n",
       "      <td>-0.020800</td>\n",
       "      <td>-0.786719</td>\n",
       "      <td>-0.470751</td>\n",
       "      <td>-0.361044</td>\n",
       "      <td>-0.286965</td>\n",
       "      <td>-0.375169</td>\n",
       "      <td>-0.556289</td>\n",
       "    </tr>\n",
       "    <tr>\n",
       "      <th>34005</th>\n",
       "      <td>-0.059370</td>\n",
       "      <td>-0.198559</td>\n",
       "      <td>-0.066431</td>\n",
       "      <td>-0.790614</td>\n",
       "      <td>-0.096784</td>\n",
       "      <td>-0.020296</td>\n",
       "      <td>-0.786719</td>\n",
       "      <td>-0.470751</td>\n",
       "      <td>-0.361044</td>\n",
       "      <td>-0.286965</td>\n",
       "      <td>-0.375169</td>\n",
       "      <td>-0.556289</td>\n",
       "    </tr>\n",
       "  </tbody>\n",
       "</table>\n",
       "<p>34006 rows × 12 columns</p>\n",
       "</div>"
      ],
      "text/plain": [
       "       followers_count  friends_count  statuses_count  account_age_months  \\\n",
       "0            -0.027904      -0.117384       -0.065098            0.554221   \n",
       "1            -0.057272      -0.175366       -0.065394            2.064857   \n",
       "2            -0.058321      -0.198559       -0.066431            0.220775   \n",
       "3            -0.056223      -0.189862       -0.056355            1.694567   \n",
       "4             0.008806       0.143534        0.044404            0.130506   \n",
       "...                ...            ...             ...                 ...   \n",
       "34001        -0.059370      -0.198559       -0.066431           -1.002472   \n",
       "34002         0.144108       0.076855       -0.011606           -1.113006   \n",
       "34003        -0.059370      -0.198559       -0.066431           -0.691133   \n",
       "34004        -0.058321      -0.143476       -0.066431           -0.936151   \n",
       "34005        -0.059370      -0.198559       -0.066431           -0.790614   \n",
       "\n",
       "       statuses_per_month  followers_ratio  prop_tweets  prop_replies  \\\n",
       "0               -0.095375        -0.020258     0.565785      1.338813   \n",
       "1               -0.096156        -0.020695     0.952215      0.692540   \n",
       "2               -0.096784         0.032383    -0.786719     -0.470751   \n",
       "3               -0.089972        -0.020298     1.647788     -0.470751   \n",
       "4                0.051261        -0.020535     0.213988      1.361981   \n",
       "...                   ...              ...          ...           ...   \n",
       "34001           -0.096784        -0.020296    -0.786719     -0.470751   \n",
       "34002            0.229549        -0.019741    -0.296755     -0.445144   \n",
       "34003           -0.096784        -0.020296    -0.786719     -0.470751   \n",
       "34004           -0.096784        -0.020800    -0.786719     -0.470751   \n",
       "34005           -0.096784        -0.020296    -0.786719     -0.470751   \n",
       "\n",
       "        prop_rt  avg_hashtags  avg_urls  avg_mentions  \n",
       "0     -0.361044     -0.286965 -0.375169      1.426678  \n",
       "1     -0.361044      0.145936  1.293462      0.081094  \n",
       "2     -0.361044     -0.286965 -0.375169     -0.556289  \n",
       "3     -0.361044     -0.286965  3.060248     -0.556289  \n",
       "4      0.372604      0.194944 -0.222999      0.571156  \n",
       "...         ...           ...       ...           ...  \n",
       "34001 -0.361044     -0.286965 -0.375169     -0.556289  \n",
       "34002  3.827161      0.827959 -0.338439      2.172629  \n",
       "34003 -0.361044     -0.286965 -0.375169     -0.556289  \n",
       "34004 -0.361044     -0.286965 -0.375169     -0.556289  \n",
       "34005 -0.361044     -0.286965 -0.375169     -0.556289  \n",
       "\n",
       "[34006 rows x 12 columns]"
      ]
     },
     "execution_count": 16,
     "metadata": {},
     "output_type": "execute_result"
    }
   ],
   "source": [
    "std_df"
   ]
  },
  {
   "cell_type": "code",
   "execution_count": 17,
   "metadata": {},
   "outputs": [],
   "source": [
    "distortions = [] \n",
    "\n",
    "X = std_df.copy()\n",
    "K = range(1,10) \n",
    "for k in K: \n",
    "    #Building and fitting the model \n",
    "    kmeanModel = KMeans(n_clusters=k).fit(X) \n",
    "    dist_cluster = sum(np.min(cdist(std_df, kmeanModel.cluster_centers_, \n",
    "                      'euclidean'),axis=1)) / X.shape[0]\n",
    "    distortions.append(dist_cluster) "
   ]
  },
  {
   "cell_type": "code",
   "execution_count": 18,
   "metadata": {},
   "outputs": [
    {
     "data": {
      "image/png": "[encoded data removed]",
      "text/plain": [
       "<Figure size 432x288 with 1 Axes>"
      ]
     },
     "metadata": {
      "needs_background": "light"
     },
     "output_type": "display_data"
    }
   ],
   "source": [
    "plt.plot(K, distortions, 'bx-') \n",
    "plt.xlabel('Values of K') \n",
    "plt.ylabel('Distortion') \n",
    "plt.title('The Elbow Method using Distortion') \n",
    "plt.show() "
   ]
  },
  {
   "cell_type": "code",
   "execution_count": 107,
   "metadata": {},
   "outputs": [],
   "source": [
    "k = 8\n",
    "kmeans = KMeans(n_clusters=k).fit(features.iloc[:,1:])\n",
    "centroids = kmeans.cluster_centers_\n",
    "# print(centroids)"
   ]
  },
  {
   "cell_type": "code",
   "execution_count": 108,
   "metadata": {},
   "outputs": [
    {
     "data": {
      "text/html": [
       "<div>\n",
       "<style scoped>\n",
       "    .dataframe tbody tr th:only-of-type {\n",
       "        vertical-align: middle;\n",
       "    }\n",
       "\n",
       "    .dataframe tbody tr th {\n",
       "        vertical-align: top;\n",
       "    }\n",
       "\n",
       "    .dataframe thead th {\n",
       "        text-align: right;\n",
       "    }\n",
       "</style>\n",
       "<table border=\"1\" class=\"dataframe\">\n",
       "  <thead>\n",
       "    <tr style=\"text-align: right;\">\n",
       "      <th></th>\n",
       "      <th>0</th>\n",
       "      <th>1</th>\n",
       "      <th>2</th>\n",
       "      <th>3</th>\n",
       "      <th>4</th>\n",
       "      <th>5</th>\n",
       "      <th>6</th>\n",
       "      <th>7</th>\n",
       "    </tr>\n",
       "  </thead>\n",
       "  <tbody>\n",
       "    <tr>\n",
       "      <th>followers_count</th>\n",
       "      <td>6697.875000</td>\n",
       "      <td>35.898452</td>\n",
       "      <td>3.950000e+02</td>\n",
       "      <td>842.536364</td>\n",
       "      <td>2538.000000</td>\n",
       "      <td>1232.129870</td>\n",
       "      <td>948.000000</td>\n",
       "      <td>98227.000000</td>\n",
       "    </tr>\n",
       "    <tr>\n",
       "      <th>friends_count</th>\n",
       "      <td>3358.875000</td>\n",
       "      <td>59.703245</td>\n",
       "      <td>3.480000e+02</td>\n",
       "      <td>545.009091</td>\n",
       "      <td>0.000000</td>\n",
       "      <td>820.766234</td>\n",
       "      <td>0.000000</td>\n",
       "      <td>232.000000</td>\n",
       "    </tr>\n",
       "    <tr>\n",
       "      <th>statuses_count</th>\n",
       "      <td>123612.375000</td>\n",
       "      <td>131.489842</td>\n",
       "      <td>1.082327e+06</td>\n",
       "      <td>12031.825000</td>\n",
       "      <td>2547.000000</td>\n",
       "      <td>44372.402597</td>\n",
       "      <td>206.000000</td>\n",
       "      <td>29552.500000</td>\n",
       "    </tr>\n",
       "    <tr>\n",
       "      <th>account_age_months</th>\n",
       "      <td>49.843333</td>\n",
       "      <td>26.429059</td>\n",
       "      <td>4.727667e+01</td>\n",
       "      <td>39.718106</td>\n",
       "      <td>18.776667</td>\n",
       "      <td>44.332078</td>\n",
       "      <td>22.796667</td>\n",
       "      <td>55.976667</td>\n",
       "    </tr>\n",
       "    <tr>\n",
       "      <th>statuses_per_month</th>\n",
       "      <td>2708.311636</td>\n",
       "      <td>7.769686</td>\n",
       "      <td>2.289347e+04</td>\n",
       "      <td>411.010464</td>\n",
       "      <td>135.647080</td>\n",
       "      <td>1122.822414</td>\n",
       "      <td>13.760311</td>\n",
       "      <td>542.692523</td>\n",
       "    </tr>\n",
       "    <tr>\n",
       "      <th>followers_ratio</th>\n",
       "      <td>44.984537</td>\n",
       "      <td>17.855576</td>\n",
       "      <td>1.135025e+00</td>\n",
       "      <td>5.356522</td>\n",
       "      <td>253800.000000</td>\n",
       "      <td>2.458696</td>\n",
       "      <td>94800.000000</td>\n",
       "      <td>1346.993862</td>\n",
       "    </tr>\n",
       "    <tr>\n",
       "      <th>prop_tweets</th>\n",
       "      <td>0.474566</td>\n",
       "      <td>0.321118</td>\n",
       "      <td>8.646875e-01</td>\n",
       "      <td>0.446976</td>\n",
       "      <td>0.327700</td>\n",
       "      <td>0.463473</td>\n",
       "      <td>0.546019</td>\n",
       "      <td>0.304847</td>\n",
       "    </tr>\n",
       "    <tr>\n",
       "      <th>prop_replies</th>\n",
       "      <td>0.129887</td>\n",
       "      <td>0.114156</td>\n",
       "      <td>4.375000e-03</td>\n",
       "      <td>0.206304</td>\n",
       "      <td>0.056884</td>\n",
       "      <td>0.217594</td>\n",
       "      <td>0.253981</td>\n",
       "      <td>0.436963</td>\n",
       "    </tr>\n",
       "    <tr>\n",
       "      <th>prop_rt</th>\n",
       "      <td>0.145547</td>\n",
       "      <td>0.065981</td>\n",
       "      <td>1.309375e-01</td>\n",
       "      <td>0.214902</td>\n",
       "      <td>0.615416</td>\n",
       "      <td>0.228023</td>\n",
       "      <td>0.000000</td>\n",
       "      <td>0.258189</td>\n",
       "    </tr>\n",
       "    <tr>\n",
       "      <th>avg_hashtags</th>\n",
       "      <td>0.075983</td>\n",
       "      <td>0.093551</td>\n",
       "      <td>1.943750e-01</td>\n",
       "      <td>0.170585</td>\n",
       "      <td>0.071723</td>\n",
       "      <td>0.139231</td>\n",
       "      <td>0.426971</td>\n",
       "      <td>0.094512</td>\n",
       "    </tr>\n",
       "    <tr>\n",
       "      <th>avg_urls</th>\n",
       "      <td>0.232668</td>\n",
       "      <td>0.095751</td>\n",
       "      <td>4.156250e-02</td>\n",
       "      <td>0.131748</td>\n",
       "      <td>0.005359</td>\n",
       "      <td>0.137092</td>\n",
       "      <td>0.246885</td>\n",
       "      <td>0.060611</td>\n",
       "    </tr>\n",
       "    <tr>\n",
       "      <th>avg_mentions</th>\n",
       "      <td>0.377193</td>\n",
       "      <td>0.244348</td>\n",
       "      <td>1.406250e-01</td>\n",
       "      <td>0.564620</td>\n",
       "      <td>0.635614</td>\n",
       "      <td>0.578653</td>\n",
       "      <td>0.290003</td>\n",
       "      <td>1.390989</td>\n",
       "    </tr>\n",
       "  </tbody>\n",
       "</table>\n",
       "</div>"
      ],
      "text/plain": [
       "                                0           1             2             3  \\\n",
       "followers_count       6697.875000   35.898452  3.950000e+02    842.536364   \n",
       "friends_count         3358.875000   59.703245  3.480000e+02    545.009091   \n",
       "statuses_count      123612.375000  131.489842  1.082327e+06  12031.825000   \n",
       "account_age_months      49.843333   26.429059  4.727667e+01     39.718106   \n",
       "statuses_per_month    2708.311636    7.769686  2.289347e+04    411.010464   \n",
       "followers_ratio         44.984537   17.855576  1.135025e+00      5.356522   \n",
       "prop_tweets              0.474566    0.321118  8.646875e-01      0.446976   \n",
       "prop_replies             0.129887    0.114156  4.375000e-03      0.206304   \n",
       "prop_rt                  0.145547    0.065981  1.309375e-01      0.214902   \n",
       "avg_hashtags             0.075983    0.093551  1.943750e-01      0.170585   \n",
       "avg_urls                 0.232668    0.095751  4.156250e-02      0.131748   \n",
       "avg_mentions             0.377193    0.244348  1.406250e-01      0.564620   \n",
       "\n",
       "                                4             5             6             7  \n",
       "followers_count       2538.000000   1232.129870    948.000000  98227.000000  \n",
       "friends_count            0.000000    820.766234      0.000000    232.000000  \n",
       "statuses_count        2547.000000  44372.402597    206.000000  29552.500000  \n",
       "account_age_months      18.776667     44.332078     22.796667     55.976667  \n",
       "statuses_per_month     135.647080   1122.822414     13.760311    542.692523  \n",
       "followers_ratio     253800.000000      2.458696  94800.000000   1346.993862  \n",
       "prop_tweets              0.327700      0.463473      0.546019      0.304847  \n",
       "prop_replies             0.056884      0.217594      0.253981      0.436963  \n",
       "prop_rt                  0.615416      0.228023      0.000000      0.258189  \n",
       "avg_hashtags             0.071723      0.139231      0.426971      0.094512  \n",
       "avg_urls                 0.005359      0.137092      0.246885      0.060611  \n",
       "avg_mentions             0.635614      0.578653      0.290003      1.390989  "
      ]
     },
     "execution_count": 108,
     "metadata": {},
     "output_type": "execute_result"
    }
   ],
   "source": [
    "#cluster representatives characteristics\n",
    "pd.DataFrame(data={idx:point for idx,point in enumerate(centroids)},\n",
    "            index=features.iloc[:,1:].columns)"
   ]
  },
  {
   "cell_type": "code",
   "execution_count": 127,
   "metadata": {},
   "outputs": [],
   "source": [
    "idx = []\n",
    "for c in range(k):\n",
    "    idx.append([i for i, x in enumerate(kmeans.labels_) if x == c])"
   ]
  },
  {
   "cell_type": "code",
   "execution_count": 128,
   "metadata": {},
   "outputs": [
    {
     "name": "stdout",
     "output_type": "stream",
     "text": [
      "8\n",
      "33471\n",
      "1\n",
      "441\n",
      "1\n",
      "77\n",
      "5\n",
      "2\n"
     ]
    }
   ],
   "source": [
    "for i in range(k):\n",
    "    print(len(idx[i]))"
   ]
  },
  {
   "cell_type": "code",
   "execution_count": 335,
   "metadata": {},
   "outputs": [],
   "source": [
    "colors = ['red','black','blue','green','yellow', 'pink', 'magenta', 'cyan', 'grey', 'lightgreen']\n",
    "LABEL_COLOR_MAP = {0:'r', 1:'k', 2:'b', 3:'g', 4:'y', 5:'pink', 6:'m',7:'c', 8:'grey', 9:'lightgreen'}\n",
    "label_color = [LABEL_COLOR_MAP[l] for l in kmeans.labels_]\n",
    "\n",
    "#orthogonal projection, onto space spanned by two\n",
    "def plot_project1d(I,features,centroids=None):\n",
    "    #idx(i) globally defined\n",
    "    fig, axs = plt.subplots(4,3,figsize=(15,15))\n",
    "    \n",
    "    for index, i in enumerate(I):\n",
    "        m,s = index%4, index//4\n",
    "        for c in range(k):\n",
    "            try:\n",
    "                features.iloc[idx[c],i].plot.kde(label=c, ax=axs[m,s], c=colors[c])\n",
    "            except:\n",
    "                axs[m,s].axvline(features.iloc[idx[c],i].median(), 0,1, label=c, c=colors[c])\n",
    "        axs[m,s].legend()\n",
    "        axs[m,s].set_yscale('symlog')\n",
    "        axs[m,s].set_xscale('symlog')\n",
    "        axs[m,s].set_ylim([0, 1])\n",
    "        axs[m,s].title.set_text('{}'.format(features.columns[index]))\n",
    "    fig.tight_layout()\n",
    "    \n",
    "def plot_project2d(pairs,features,centroids):\n",
    "    fig, axs = plt.subplots(4,3,figsize=(15,15))\n",
    "    count = 0\n",
    "    for i,j in zip(pairs[0],pairs[1]):\n",
    "        m,s = count%4, count//4\n",
    "        for g in np.unique(kmeans.labels_):\n",
    "            if g != 7:\n",
    "                axs[m,s].scatter(centroids[g, i], centroids[g, j], c=colors[g], label=g, s=100)\n",
    "        #axs[m,s].scatter(features.iloc[:,i], features.iloc[:,j], marker = 'x', c=label_color, s=20, alpha=0.30)\n",
    "        axs[m,s].legend()\n",
    "        axs[m,s].title.set_text('{} vs {}'.format(features.columns[i],features.columns[j]))\n",
    "        count += 1\n",
    "        \n",
    "    fig.tight_layout()"
   ]
  },
  {
   "cell_type": "code",
   "execution_count": 336,
   "metadata": {},
   "outputs": [
    {
     "data": {
      "image/png": "[encoded data removed]",
      "text/plain": [
       "<Figure size 1080x1080 with 12 Axes>"
      ]
     },
     "metadata": {
      "needs_background": "light"
     },
     "output_type": "display_data"
    }
   ],
   "source": [
    "pairs = np.transpose([[0,i] for i in range(12)])\n",
    "plot_project2d(pairs, std_df, centroids)"
   ]
  },
  {
   "cell_type": "code",
   "execution_count": 337,
   "metadata": {},
   "outputs": [
    {
     "data": {
      "image/png": "[encoded data removed]",
      "text/plain": [
       "<Figure size 1080x1080 with 12 Axes>"
      ]
     },
     "metadata": {
      "needs_background": "light"
     },
     "output_type": "display_data"
    }
   ],
   "source": [
    "plot_project1d(list(range(12)), std_df, centroids)"
   ]
  },
  {
   "cell_type": "markdown",
   "metadata": {},
   "source": [
    "## Interactive plots"
   ]
  },
  {
   "cell_type": "code",
   "execution_count": 236,
   "metadata": {},
   "outputs": [
    {
     "data": {
      "text/html": [
       "        <script type=\"text/javascript\">\n",
       "        window.PlotlyConfig = {MathJaxConfig: 'local'};\n",
       "        if (window.MathJax) {MathJax.Hub.Config({SVG: {font: \"STIX-Web\"}});}\n",
       "        if (typeof require !== 'undefined') {\n",
       "        require.undef(\"plotly\");\n",
       "        requirejs.config({\n",
       "            paths: {\n",
       "                'plotly': ['https://cdn.plot.ly/plotly-latest.min']\n",
       "            }\n",
       "        });\n",
       "        require(['plotly'], function(Plotly) {\n",
       "            window._Plotly = Plotly;\n",
       "        });\n",
       "        }\n",
       "        </script>\n",
       "        "
      ]
     },
     "metadata": {},
     "output_type": "display_data"
    }
   ],
   "source": [
    "from plotly.offline import download_plotlyjs, init_notebook_mode, plot, iplot\n",
    "import plotly.graph_objects as go\n",
    "import chart_studio.plotly as py\n",
    "init_notebook_mode(connected=True)"
   ]
  },
  {
   "cell_type": "code",
   "execution_count": 257,
   "metadata": {},
   "outputs": [],
   "source": [
    "cluster_list = np.arange(k)\n",
    "feature_names = features.columns.tolist()[1:]\n",
    "centres = pd.DataFrame(centroids, columns=feature_names)"
   ]
  },
  {
   "cell_type": "code",
   "execution_count": 341,
   "metadata": {},
   "outputs": [
    {
     "data": {
      "application/vnd.plotly.v1+json": {
       "config": {
        "linkText": "Export to plot.ly",
        "plotlyServerURL": "https://plot.ly",
        "showLink": false
       },
       "data": [
        {
         "marker": {
          "color": [
           "red",
           "black",
           "blue",
           "green",
           "yellow",
           "pink",
           "magenta",
           "cyan"
          ],
          "size": 15
         },
         "mode": "markers",
         "type": "scatter",
         "x": [
          6697.875,
          35.89845243786126,
          395,
          842.5363636363633,
          2538,
          1232.12987012987,
          947.9999999999999,
          98227
         ],
         "y": [
          3358.8750000000005,
          59.70324450286701,
          348,
          545.0090909090904,
          0,
          820.7662337662338,
          0,
          232
         ]
        }
       ],
       "layout": {
        "height": 400,
        "template": {
         "data": {
          "bar": [
           {
            "error_x": {
             "color": "#2a3f5f"
            },
            "error_y": {
             "color": "#2a3f5f"
            },
            "marker": {
             "line": {
              "color": "#E5ECF6",
              "width": 0.5
             }
            },
            "type": "bar"
           }
          ],
          "barpolar": [
           {
            "marker": {
             "line": {
              "color": "#E5ECF6",
              "width": 0.5
             }
            },
            "type": "barpolar"
           }
          ],
          "carpet": [
           {
            "aaxis": {
             "endlinecolor": "#2a3f5f",
             "gridcolor": "white",
             "linecolor": "white",
             "minorgridcolor": "white",
             "startlinecolor": "#2a3f5f"
            },
            "baxis": {
             "endlinecolor": "#2a3f5f",
             "gridcolor": "white",
             "linecolor": "white",
             "minorgridcolor": "white",
             "startlinecolor": "#2a3f5f"
            },
            "type": "carpet"
           }
          ],
          "choropleth": [
           {
            "colorbar": {
             "outlinewidth": 0,
             "ticks": ""
            },
            "type": "choropleth"
           }
          ],
          "contour": [
           {
            "colorbar": {
             "outlinewidth": 0,
             "ticks": ""
            },
            "colorscale": [
             [
              0,
              "#0d0887"
             ],
             [
              0.1111111111111111,
              "#46039f"
             ],
             [
              0.2222222222222222,
              "#7201a8"
             ],
             [
              0.3333333333333333,
              "#9c179e"
             ],
             [
              0.4444444444444444,
              "#bd3786"
             ],
             [
              0.5555555555555556,
              "#d8576b"
             ],
             [
              0.6666666666666666,
              "#ed7953"
             ],
             [
              0.7777777777777778,
              "#fb9f3a"
             ],
             [
              0.8888888888888888,
              "#fdca26"
             ],
             [
              1,
              "#f0f921"
             ]
            ],
            "type": "contour"
           }
          ],
          "contourcarpet": [
           {
            "colorbar": {
             "outlinewidth": 0,
             "ticks": ""
            },
            "type": "contourcarpet"
           }
          ],
          "heatmap": [
           {
            "colorbar": {
             "outlinewidth": 0,
             "ticks": ""
            },
            "colorscale": [
             [
              0,
              "#0d0887"
             ],
             [
              0.1111111111111111,
              "#46039f"
             ],
             [
              0.2222222222222222,
              "#7201a8"
             ],
             [
              0.3333333333333333,
              "#9c179e"
             ],
             [
              0.4444444444444444,
              "#bd3786"
             ],
             [
              0.5555555555555556,
              "#d8576b"
             ],
             [
              0.6666666666666666,
              "#ed7953"
             ],
             [
              0.7777777777777778,
              "#fb9f3a"
             ],
             [
              0.8888888888888888,
              "#fdca26"
             ],
             [
              1,
              "#f0f921"
             ]
            ],
            "type": "heatmap"
           }
          ],
          "heatmapgl": [
           {
            "colorbar": {
             "outlinewidth": 0,
             "ticks": ""
            },
            "colorscale": [
             [
              0,
              "#0d0887"
             ],
             [
              0.1111111111111111,
              "#46039f"
             ],
             [
              0.2222222222222222,
              "#7201a8"
             ],
             [
              0.3333333333333333,
              "#9c179e"
             ],
             [
              0.4444444444444444,
              "#bd3786"
             ],
             [
              0.5555555555555556,
              "#d8576b"
             ],
             [
              0.6666666666666666,
              "#ed7953"
             ],
             [
              0.7777777777777778,
              "#fb9f3a"
             ],
             [
              0.8888888888888888,
              "#fdca26"
             ],
             [
              1,
              "#f0f921"
             ]
            ],
            "type": "heatmapgl"
           }
          ],
          "histogram": [
           {
            "marker": {
             "colorbar": {
              "outlinewidth": 0,
              "ticks": ""
             }
            },
            "type": "histogram"
           }
          ],
          "histogram2d": [
           {
            "colorbar": {
             "outlinewidth": 0,
             "ticks": ""
            },
            "colorscale": [
             [
              0,
              "#0d0887"
             ],
             [
              0.1111111111111111,
              "#46039f"
             ],
             [
              0.2222222222222222,
              "#7201a8"
             ],
             [
              0.3333333333333333,
              "#9c179e"
             ],
             [
              0.4444444444444444,
              "#bd3786"
             ],
             [
              0.5555555555555556,
              "#d8576b"
             ],
             [
              0.6666666666666666,
              "#ed7953"
             ],
             [
              0.7777777777777778,
              "#fb9f3a"
             ],
             [
              0.8888888888888888,
              "#fdca26"
             ],
             [
              1,
              "#f0f921"
             ]
            ],
            "type": "histogram2d"
           }
          ],
          "histogram2dcontour": [
           {
            "colorbar": {
             "outlinewidth": 0,
             "ticks": ""
            },
            "colorscale": [
             [
              0,
              "#0d0887"
             ],
             [
              0.1111111111111111,
              "#46039f"
             ],
             [
              0.2222222222222222,
              "#7201a8"
             ],
             [
              0.3333333333333333,
              "#9c179e"
             ],
             [
              0.4444444444444444,
              "#bd3786"
             ],
             [
              0.5555555555555556,
              "#d8576b"
             ],
             [
              0.6666666666666666,
              "#ed7953"
             ],
             [
              0.7777777777777778,
              "#fb9f3a"
             ],
             [
              0.8888888888888888,
              "#fdca26"
             ],
             [
              1,
              "#f0f921"
             ]
            ],
            "type": "histogram2dcontour"
           }
          ],
          "mesh3d": [
           {
            "colorbar": {
             "outlinewidth": 0,
             "ticks": ""
            },
            "type": "mesh3d"
           }
          ],
          "parcoords": [
           {
            "line": {
             "colorbar": {
              "outlinewidth": 0,
              "ticks": ""
             }
            },
            "type": "parcoords"
           }
          ],
          "pie": [
           {
            "automargin": true,
            "type": "pie"
           }
          ],
          "scatter": [
           {
            "marker": {
             "colorbar": {
              "outlinewidth": 0,
              "ticks": ""
             }
            },
            "type": "scatter"
           }
          ],
          "scatter3d": [
           {
            "line": {
             "colorbar": {
              "outlinewidth": 0,
              "ticks": ""
             }
            },
            "marker": {
             "colorbar": {
              "outlinewidth": 0,
              "ticks": ""
             }
            },
            "type": "scatter3d"
           }
          ],
          "scattercarpet": [
           {
            "marker": {
             "colorbar": {
              "outlinewidth": 0,
              "ticks": ""
             }
            },
            "type": "scattercarpet"
           }
          ],
          "scattergeo": [
           {
            "marker": {
             "colorbar": {
              "outlinewidth": 0,
              "ticks": ""
             }
            },
            "type": "scattergeo"
           }
          ],
          "scattergl": [
           {
            "marker": {
             "colorbar": {
              "outlinewidth": 0,
              "ticks": ""
             }
            },
            "type": "scattergl"
           }
          ],
          "scattermapbox": [
           {
            "marker": {
             "colorbar": {
              "outlinewidth": 0,
              "ticks": ""
             }
            },
            "type": "scattermapbox"
           }
          ],
          "scatterpolar": [
           {
            "marker": {
             "colorbar": {
              "outlinewidth": 0,
              "ticks": ""
             }
            },
            "type": "scatterpolar"
           }
          ],
          "scatterpolargl": [
           {
            "marker": {
             "colorbar": {
              "outlinewidth": 0,
              "ticks": ""
             }
            },
            "type": "scatterpolargl"
           }
          ],
          "scatterternary": [
           {
            "marker": {
             "colorbar": {
              "outlinewidth": 0,
              "ticks": ""
             }
            },
            "type": "scatterternary"
           }
          ],
          "surface": [
           {
            "colorbar": {
             "outlinewidth": 0,
             "ticks": ""
            },
            "colorscale": [
             [
              0,
              "#0d0887"
             ],
             [
              0.1111111111111111,
              "#46039f"
             ],
             [
              0.2222222222222222,
              "#7201a8"
             ],
             [
              0.3333333333333333,
              "#9c179e"
             ],
             [
              0.4444444444444444,
              "#bd3786"
             ],
             [
              0.5555555555555556,
              "#d8576b"
             ],
             [
              0.6666666666666666,
              "#ed7953"
             ],
             [
              0.7777777777777778,
              "#fb9f3a"
             ],
             [
              0.8888888888888888,
              "#fdca26"
             ],
             [
              1,
              "#f0f921"
             ]
            ],
            "type": "surface"
           }
          ],
          "table": [
           {
            "cells": {
             "fill": {
              "color": "#EBF0F8"
             },
             "line": {
              "color": "white"
             }
            },
            "header": {
             "fill": {
              "color": "#C8D4E3"
             },
             "line": {
              "color": "white"
             }
            },
            "type": "table"
           }
          ]
         },
         "layout": {
          "annotationdefaults": {
           "arrowcolor": "#2a3f5f",
           "arrowhead": 0,
           "arrowwidth": 1
          },
          "autotypenumbers": "strict",
          "coloraxis": {
           "colorbar": {
            "outlinewidth": 0,
            "ticks": ""
           }
          },
          "colorscale": {
           "diverging": [
            [
             0,
             "#8e0152"
            ],
            [
             0.1,
             "#c51b7d"
            ],
            [
             0.2,
             "#de77ae"
            ],
            [
             0.3,
             "#f1b6da"
            ],
            [
             0.4,
             "#fde0ef"
            ],
            [
             0.5,
             "#f7f7f7"
            ],
            [
             0.6,
             "#e6f5d0"
            ],
            [
             0.7,
             "#b8e186"
            ],
            [
             0.8,
             "#7fbc41"
            ],
            [
             0.9,
             "#4d9221"
            ],
            [
             1,
             "#276419"
            ]
           ],
           "sequential": [
            [
             0,
             "#0d0887"
            ],
            [
             0.1111111111111111,
             "#46039f"
            ],
            [
             0.2222222222222222,
             "#7201a8"
            ],
            [
             0.3333333333333333,
             "#9c179e"
            ],
            [
             0.4444444444444444,
             "#bd3786"
            ],
            [
             0.5555555555555556,
             "#d8576b"
            ],
            [
             0.6666666666666666,
             "#ed7953"
            ],
            [
             0.7777777777777778,
             "#fb9f3a"
            ],
            [
             0.8888888888888888,
             "#fdca26"
            ],
            [
             1,
             "#f0f921"
            ]
           ],
           "sequentialminus": [
            [
             0,
             "#0d0887"
            ],
            [
             0.1111111111111111,
             "#46039f"
            ],
            [
             0.2222222222222222,
             "#7201a8"
            ],
            [
             0.3333333333333333,
             "#9c179e"
            ],
            [
             0.4444444444444444,
             "#bd3786"
            ],
            [
             0.5555555555555556,
             "#d8576b"
            ],
            [
             0.6666666666666666,
             "#ed7953"
            ],
            [
             0.7777777777777778,
             "#fb9f3a"
            ],
            [
             0.8888888888888888,
             "#fdca26"
            ],
            [
             1,
             "#f0f921"
            ]
           ]
          },
          "colorway": [
           "#636efa",
           "#EF553B",
           "#00cc96",
           "#ab63fa",
           "#FFA15A",
           "#19d3f3",
           "#FF6692",
           "#B6E880",
           "#FF97FF",
           "#FECB52"
          ],
          "font": {
           "color": "#2a3f5f"
          },
          "geo": {
           "bgcolor": "white",
           "lakecolor": "white",
           "landcolor": "#E5ECF6",
           "showlakes": true,
           "showland": true,
           "subunitcolor": "white"
          },
          "hoverlabel": {
           "align": "left"
          },
          "hovermode": "closest",
          "mapbox": {
           "style": "light"
          },
          "paper_bgcolor": "white",
          "plot_bgcolor": "#E5ECF6",
          "polar": {
           "angularaxis": {
            "gridcolor": "white",
            "linecolor": "white",
            "ticks": ""
           },
           "bgcolor": "#E5ECF6",
           "radialaxis": {
            "gridcolor": "white",
            "linecolor": "white",
            "ticks": ""
           }
          },
          "scene": {
           "xaxis": {
            "backgroundcolor": "#E5ECF6",
            "gridcolor": "white",
            "gridwidth": 2,
            "linecolor": "white",
            "showbackground": true,
            "ticks": "",
            "zerolinecolor": "white"
           },
           "yaxis": {
            "backgroundcolor": "#E5ECF6",
            "gridcolor": "white",
            "gridwidth": 2,
            "linecolor": "white",
            "showbackground": true,
            "ticks": "",
            "zerolinecolor": "white"
           },
           "zaxis": {
            "backgroundcolor": "#E5ECF6",
            "gridcolor": "white",
            "gridwidth": 2,
            "linecolor": "white",
            "showbackground": true,
            "ticks": "",
            "zerolinecolor": "white"
           }
          },
          "shapedefaults": {
           "line": {
            "color": "#2a3f5f"
           }
          },
          "ternary": {
           "aaxis": {
            "gridcolor": "white",
            "linecolor": "white",
            "ticks": ""
           },
           "baxis": {
            "gridcolor": "white",
            "linecolor": "white",
            "ticks": ""
           },
           "bgcolor": "#E5ECF6",
           "caxis": {
            "gridcolor": "white",
            "linecolor": "white",
            "ticks": ""
           }
          },
          "title": {
           "x": 0.05
          },
          "xaxis": {
           "automargin": true,
           "gridcolor": "white",
           "linecolor": "white",
           "ticks": "",
           "title": {
            "standoff": 15
           },
           "zerolinecolor": "white",
           "zerolinewidth": 2
          },
          "yaxis": {
           "automargin": true,
           "gridcolor": "white",
           "linecolor": "white",
           "ticks": "",
           "title": {
            "standoff": 15
           },
           "zerolinecolor": "white",
           "zerolinewidth": 2
          }
         }
        },
        "updatemenus": [
         {
          "active": 0,
          "buttons": [
           {
            "args": [
             {
              "y": [
               [
                6697.875,
                35.89845243786126,
                395,
                842.5363636363633,
                2538,
                1232.12987012987,
                947.9999999999999,
                98227
               ]
              ]
             }
            ],
            "label": "followers_count",
            "method": "restyle"
           },
           {
            "args": [
             {
              "y": [
               [
                3358.8750000000005,
                59.70324450286701,
                348,
                545.0090909090904,
                0,
                820.7662337662338,
                0,
                232
               ]
              ]
             }
            ],
            "label": "friends_count",
            "method": "restyle"
           },
           {
            "args": [
             {
              "y": [
               [
                123612.375,
                131.4898422562373,
                1082327,
                12031.824999999979,
                2547,
                44372.40259740258,
                206,
                29552.5
               ]
              ]
             }
            ],
            "label": "statuses_count",
            "method": "restyle"
           },
           {
            "args": [
             {
              "y": [
               [
                49.843333333333334,
                26.429058715742553,
                47.276666666666664,
                39.71810606060606,
                18.776666666666667,
                44.33207792207793,
                22.796666666666667,
                55.97666666666666
               ]
              ]
             }
            ],
            "label": "account_age_months",
            "method": "restyle"
           },
           {
            "args": [
             {
              "y": [
               [
                2708.311636361466,
                7.769685740061929,
                22893.471056899107,
                411.01046441661254,
                135.6470797088585,
                1122.8224136261508,
                13.760311102043657,
                542.6925232832488
               ]
              ]
             }
            ],
            "label": "statuses_per_month",
            "method": "restyle"
           },
           {
            "args": [
             {
              "y": [
               [
                44.98453709449697,
                17.855576301202237,
                1.1350248556075968,
                5.356522003022633,
                253800,
                2.458696261686441,
                94800,
                1346.9938620415317
               ]
              ]
             }
            ],
            "label": "followers_ratio",
            "method": "restyle"
           },
           {
            "args": [
             {
              "y": [
               [
                0.4745662809712423,
                0.321118028567458,
                0.8646875,
                0.4469755848386771,
                0.3276999175597692,
                0.4634733177371989,
                0.5460185605160659,
                0.30484744901305005
               ]
              ]
             }
            ],
            "label": "prop_tweets",
            "method": "restyle"
           },
           {
            "args": [
             {
              "y": [
               [
                0.1298865581311409,
                0.11415562669065658,
                0.004375000000000004,
                0.20630442711381278,
                0.05688375927452597,
                0.21759443799092293,
                0.25398143948393415,
                0.43696307954619973
               ]
              ]
             }
            ],
            "label": "prop_replies",
            "method": "restyle"
           },
           {
            "args": [
             {
              "y": [
               [
                0.1455471608976168,
                0.06598112485660988,
                0.1309375,
                0.2149018062293283,
                0.6154163231657048,
                0.22802315336278725,
                0,
                0.2581894714407502
               ]
              ]
             }
            ],
            "label": "prop_rt",
            "method": "restyle"
           },
           {
            "args": [
             {
              "y": [
               [
                0.07598324219282937,
                0.0935509218987331,
                0.194375,
                0.17058469437045287,
                0.0717230008244023,
                0.13923125549668866,
                0.42697055347140145,
                0.09451234507180799
               ]
              ]
             }
            ],
            "label": "avg_hashtags",
            "method": "restyle"
           },
           {
            "args": [
             {
              "y": [
               [
                0.23266843130901438,
                0.09575109722206776,
                0.0415625,
                0.13174767857811157,
                0.005358615004122005,
                0.13709167113674778,
                0.24688493640247275,
                0.060611351564036985
               ]
              ]
             }
            ],
            "label": "avg_urls",
            "method": "restyle"
           },
           {
            "args": [
             {
              "y": [
               [
                0.37719329607424046,
                0.24434831270026697,
                0.140625,
                0.5646198797181352,
                0.6356141797197032,
                0.5786532979945802,
                0.29000290838187465,
                1.390989163223818
               ]
              ]
             }
            ],
            "label": "avg_mentions",
            "method": "restyle"
           }
          ],
          "x": 1.1,
          "xanchor": "left",
          "y": 1,
          "yanchor": "top"
         },
         {
          "active": 0,
          "buttons": [
           {
            "args": [
             {
              "x": [
               [
                6697.875,
                35.89845243786126,
                395,
                842.5363636363633,
                2538,
                1232.12987012987,
                947.9999999999999,
                98227
               ]
              ]
             }
            ],
            "label": "followers_count",
            "method": "restyle"
           },
           {
            "args": [
             {
              "x": [
               [
                3358.8750000000005,
                59.70324450286701,
                348,
                545.0090909090904,
                0,
                820.7662337662338,
                0,
                232
               ]
              ]
             }
            ],
            "label": "friends_count",
            "method": "restyle"
           },
           {
            "args": [
             {
              "x": [
               [
                123612.375,
                131.4898422562373,
                1082327,
                12031.824999999979,
                2547,
                44372.40259740258,
                206,
                29552.5
               ]
              ]
             }
            ],
            "label": "statuses_count",
            "method": "restyle"
           },
           {
            "args": [
             {
              "x": [
               [
                49.843333333333334,
                26.429058715742553,
                47.276666666666664,
                39.71810606060606,
                18.776666666666667,
                44.33207792207793,
                22.796666666666667,
                55.97666666666666
               ]
              ]
             }
            ],
            "label": "account_age_months",
            "method": "restyle"
           },
           {
            "args": [
             {
              "x": [
               [
                2708.311636361466,
                7.769685740061929,
                22893.471056899107,
                411.01046441661254,
                135.6470797088585,
                1122.8224136261508,
                13.760311102043657,
                542.6925232832488
               ]
              ]
             }
            ],
            "label": "statuses_per_month",
            "method": "restyle"
           },
           {
            "args": [
             {
              "x": [
               [
                44.98453709449697,
                17.855576301202237,
                1.1350248556075968,
                5.356522003022633,
                253800,
                2.458696261686441,
                94800,
                1346.9938620415317
               ]
              ]
             }
            ],
            "label": "followers_ratio",
            "method": "restyle"
           },
           {
            "args": [
             {
              "x": [
               [
                0.4745662809712423,
                0.321118028567458,
                0.8646875,
                0.4469755848386771,
                0.3276999175597692,
                0.4634733177371989,
                0.5460185605160659,
                0.30484744901305005
               ]
              ]
             }
            ],
            "label": "prop_tweets",
            "method": "restyle"
           },
           {
            "args": [
             {
              "x": [
               [
                0.1298865581311409,
                0.11415562669065658,
                0.004375000000000004,
                0.20630442711381278,
                0.05688375927452597,
                0.21759443799092293,
                0.25398143948393415,
                0.43696307954619973
               ]
              ]
             }
            ],
            "label": "prop_replies",
            "method": "restyle"
           },
           {
            "args": [
             {
              "x": [
               [
                0.1455471608976168,
                0.06598112485660988,
                0.1309375,
                0.2149018062293283,
                0.6154163231657048,
                0.22802315336278725,
                0,
                0.2581894714407502
               ]
              ]
             }
            ],
            "label": "prop_rt",
            "method": "restyle"
           },
           {
            "args": [
             {
              "x": [
               [
                0.07598324219282937,
                0.0935509218987331,
                0.194375,
                0.17058469437045287,
                0.0717230008244023,
                0.13923125549668866,
                0.42697055347140145,
                0.09451234507180799
               ]
              ]
             }
            ],
            "label": "avg_hashtags",
            "method": "restyle"
           },
           {
            "args": [
             {
              "x": [
               [
                0.23266843130901438,
                0.09575109722206776,
                0.0415625,
                0.13174767857811157,
                0.005358615004122005,
                0.13709167113674778,
                0.24688493640247275,
                0.060611351564036985
               ]
              ]
             }
            ],
            "label": "avg_urls",
            "method": "restyle"
           },
           {
            "args": [
             {
              "x": [
               [
                0.37719329607424046,
                0.24434831270026697,
                0.140625,
                0.5646198797181352,
                0.6356141797197032,
                0.5786532979945802,
                0.29000290838187465,
                1.390989163223818
               ]
              ]
             }
            ],
            "label": "avg_mentions",
            "method": "restyle"
           }
          ],
          "x": 1.1,
          "xanchor": "left",
          "y": 0.8,
          "yanchor": "top"
         }
        ],
        "width": 800
       }
      },
      "text/html": [
       "<div>                            <div id=\"83251378-d154-4b27-a95b-dc18525f39eb\" class=\"plotly-graph-div\" style=\"height:400px; width:800px;\"></div>            <script type=\"text/javascript\">                require([\"plotly\"], function(Plotly) {                    window.PLOTLYENV=window.PLOTLYENV || {};                                    if (document.getElementById(\"83251378-d154-4b27-a95b-dc18525f39eb\")) {                    Plotly.newPlot(                        \"83251378-d154-4b27-a95b-dc18525f39eb\",                        [{\"marker\": {\"color\": [\"red\", \"black\", \"blue\", \"green\", \"yellow\", \"pink\", \"magenta\", \"cyan\"], \"size\": 15}, \"mode\": \"markers\", \"type\": \"scatter\", \"x\": [6697.875, 35.89845243786126, 395.0, 842.5363636363633, 2538.0, 1232.12987012987, 947.9999999999999, 98227.0], \"y\": [3358.8750000000005, 59.70324450286701, 348.0, 545.0090909090904, 0.0, 820.7662337662338, 0.0, 232.0]}],                        {\"height\": 400, \"template\": {\"data\": {\"bar\": [{\"error_x\": {\"color\": \"#2a3f5f\"}, \"error_y\": {\"color\": \"#2a3f5f\"}, \"marker\": {\"line\": {\"color\": \"#E5ECF6\", \"width\": 0.5}}, \"type\": \"bar\"}], \"barpolar\": [{\"marker\": {\"line\": {\"color\": \"#E5ECF6\", \"width\": 0.5}}, \"type\": \"barpolar\"}], \"carpet\": [{\"aaxis\": {\"endlinecolor\": \"#2a3f5f\", \"gridcolor\": \"white\", \"linecolor\": \"white\", \"minorgridcolor\": \"white\", \"startlinecolor\": \"#2a3f5f\"}, \"baxis\": {\"endlinecolor\": \"#2a3f5f\", \"gridcolor\": \"white\", \"linecolor\": \"white\", \"minorgridcolor\": \"white\", \"startlinecolor\": \"#2a3f5f\"}, \"type\": \"carpet\"}], \"choropleth\": [{\"colorbar\": {\"outlinewidth\": 0, \"ticks\": \"\"}, \"type\": \"choropleth\"}], \"contour\": [{\"colorbar\": {\"outlinewidth\": 0, \"ticks\": \"\"}, \"colorscale\": [[0.0, \"#0d0887\"], [0.1111111111111111, \"#46039f\"], [0.2222222222222222, \"#7201a8\"], [0.3333333333333333, \"#9c179e\"], [0.4444444444444444, \"#bd3786\"], [0.5555555555555556, \"#d8576b\"], [0.6666666666666666, \"#ed7953\"], [0.7777777777777778, \"#fb9f3a\"], [0.8888888888888888, \"#fdca26\"], [1.0, \"#f0f921\"]], \"type\": \"contour\"}], \"contourcarpet\": [{\"colorbar\": {\"outlinewidth\": 0, \"ticks\": \"\"}, \"type\": \"contourcarpet\"}], \"heatmap\": [{\"colorbar\": {\"outlinewidth\": 0, \"ticks\": \"\"}, \"colorscale\": [[0.0, \"#0d0887\"], [0.1111111111111111, \"#46039f\"], [0.2222222222222222, \"#7201a8\"], [0.3333333333333333, \"#9c179e\"], [0.4444444444444444, \"#bd3786\"], [0.5555555555555556, \"#d8576b\"], [0.6666666666666666, \"#ed7953\"], [0.7777777777777778, \"#fb9f3a\"], [0.8888888888888888, \"#fdca26\"], [1.0, \"#f0f921\"]], \"type\": \"heatmap\"}], \"heatmapgl\": [{\"colorbar\": {\"outlinewidth\": 0, \"ticks\": \"\"}, \"colorscale\": [[0.0, \"#0d0887\"], [0.1111111111111111, \"#46039f\"], [0.2222222222222222, \"#7201a8\"], [0.3333333333333333, \"#9c179e\"], [0.4444444444444444, \"#bd3786\"], [0.5555555555555556, \"#d8576b\"], [0.6666666666666666, \"#ed7953\"], [0.7777777777777778, \"#fb9f3a\"], [0.8888888888888888, \"#fdca26\"], [1.0, \"#f0f921\"]], \"type\": \"heatmapgl\"}], \"histogram\": [{\"marker\": {\"colorbar\": {\"outlinewidth\": 0, \"ticks\": \"\"}}, \"type\": \"histogram\"}], \"histogram2d\": [{\"colorbar\": {\"outlinewidth\": 0, \"ticks\": \"\"}, \"colorscale\": [[0.0, \"#0d0887\"], [0.1111111111111111, \"#46039f\"], [0.2222222222222222, \"#7201a8\"], [0.3333333333333333, \"#9c179e\"], [0.4444444444444444, \"#bd3786\"], [0.5555555555555556, \"#d8576b\"], [0.6666666666666666, \"#ed7953\"], [0.7777777777777778, \"#fb9f3a\"], [0.8888888888888888, \"#fdca26\"], [1.0, \"#f0f921\"]], \"type\": \"histogram2d\"}], \"histogram2dcontour\": [{\"colorbar\": {\"outlinewidth\": 0, \"ticks\": \"\"}, \"colorscale\": [[0.0, \"#0d0887\"], [0.1111111111111111, \"#46039f\"], [0.2222222222222222, \"#7201a8\"], [0.3333333333333333, \"#9c179e\"], [0.4444444444444444, \"#bd3786\"], [0.5555555555555556, \"#d8576b\"], [0.6666666666666666, \"#ed7953\"], [0.7777777777777778, \"#fb9f3a\"], [0.8888888888888888, \"#fdca26\"], [1.0, \"#f0f921\"]], \"type\": \"histogram2dcontour\"}], \"mesh3d\": [{\"colorbar\": {\"outlinewidth\": 0, \"ticks\": \"\"}, \"type\": \"mesh3d\"}], \"parcoords\": [{\"line\": {\"colorbar\": {\"outlinewidth\": 0, \"ticks\": \"\"}}, \"type\": \"parcoords\"}], \"pie\": [{\"automargin\": true, \"type\": \"pie\"}], \"scatter\": [{\"marker\": {\"colorbar\": {\"outlinewidth\": 0, \"ticks\": \"\"}}, \"type\": \"scatter\"}], \"scatter3d\": [{\"line\": {\"colorbar\": {\"outlinewidth\": 0, \"ticks\": \"\"}}, \"marker\": {\"colorbar\": {\"outlinewidth\": 0, \"ticks\": \"\"}}, \"type\": \"scatter3d\"}], \"scattercarpet\": [{\"marker\": {\"colorbar\": {\"outlinewidth\": 0, \"ticks\": \"\"}}, \"type\": \"scattercarpet\"}], \"scattergeo\": [{\"marker\": {\"colorbar\": {\"outlinewidth\": 0, \"ticks\": \"\"}}, \"type\": \"scattergeo\"}], \"scattergl\": [{\"marker\": {\"colorbar\": {\"outlinewidth\": 0, \"ticks\": \"\"}}, \"type\": \"scattergl\"}], \"scattermapbox\": [{\"marker\": {\"colorbar\": {\"outlinewidth\": 0, \"ticks\": \"\"}}, \"type\": \"scattermapbox\"}], \"scatterpolar\": [{\"marker\": {\"colorbar\": {\"outlinewidth\": 0, \"ticks\": \"\"}}, \"type\": \"scatterpolar\"}], \"scatterpolargl\": [{\"marker\": {\"colorbar\": {\"outlinewidth\": 0, \"ticks\": \"\"}}, \"type\": \"scatterpolargl\"}], \"scatterternary\": [{\"marker\": {\"colorbar\": {\"outlinewidth\": 0, \"ticks\": \"\"}}, \"type\": \"scatterternary\"}], \"surface\": [{\"colorbar\": {\"outlinewidth\": 0, \"ticks\": \"\"}, \"colorscale\": [[0.0, \"#0d0887\"], [0.1111111111111111, \"#46039f\"], [0.2222222222222222, \"#7201a8\"], [0.3333333333333333, \"#9c179e\"], [0.4444444444444444, \"#bd3786\"], [0.5555555555555556, \"#d8576b\"], [0.6666666666666666, \"#ed7953\"], [0.7777777777777778, \"#fb9f3a\"], [0.8888888888888888, \"#fdca26\"], [1.0, \"#f0f921\"]], \"type\": \"surface\"}], \"table\": [{\"cells\": {\"fill\": {\"color\": \"#EBF0F8\"}, \"line\": {\"color\": \"white\"}}, \"header\": {\"fill\": {\"color\": \"#C8D4E3\"}, \"line\": {\"color\": \"white\"}}, \"type\": \"table\"}]}, \"layout\": {\"annotationdefaults\": {\"arrowcolor\": \"#2a3f5f\", \"arrowhead\": 0, \"arrowwidth\": 1}, \"autotypenumbers\": \"strict\", \"coloraxis\": {\"colorbar\": {\"outlinewidth\": 0, \"ticks\": \"\"}}, \"colorscale\": {\"diverging\": [[0, \"#8e0152\"], [0.1, \"#c51b7d\"], [0.2, \"#de77ae\"], [0.3, \"#f1b6da\"], [0.4, \"#fde0ef\"], [0.5, \"#f7f7f7\"], [0.6, \"#e6f5d0\"], [0.7, \"#b8e186\"], [0.8, \"#7fbc41\"], [0.9, \"#4d9221\"], [1, \"#276419\"]], \"sequential\": [[0.0, \"#0d0887\"], [0.1111111111111111, \"#46039f\"], [0.2222222222222222, \"#7201a8\"], [0.3333333333333333, \"#9c179e\"], [0.4444444444444444, \"#bd3786\"], [0.5555555555555556, \"#d8576b\"], [0.6666666666666666, \"#ed7953\"], [0.7777777777777778, \"#fb9f3a\"], [0.8888888888888888, \"#fdca26\"], [1.0, \"#f0f921\"]], \"sequentialminus\": [[0.0, \"#0d0887\"], [0.1111111111111111, \"#46039f\"], [0.2222222222222222, \"#7201a8\"], [0.3333333333333333, \"#9c179e\"], [0.4444444444444444, \"#bd3786\"], [0.5555555555555556, \"#d8576b\"], [0.6666666666666666, \"#ed7953\"], [0.7777777777777778, \"#fb9f3a\"], [0.8888888888888888, \"#fdca26\"], [1.0, \"#f0f921\"]]}, \"colorway\": [\"#636efa\", \"#EF553B\", \"#00cc96\", \"#ab63fa\", \"#FFA15A\", \"#19d3f3\", \"#FF6692\", \"#B6E880\", \"#FF97FF\", \"#FECB52\"], \"font\": {\"color\": \"#2a3f5f\"}, \"geo\": {\"bgcolor\": \"white\", \"lakecolor\": \"white\", \"landcolor\": \"#E5ECF6\", \"showlakes\": true, \"showland\": true, \"subunitcolor\": \"white\"}, \"hoverlabel\": {\"align\": \"left\"}, \"hovermode\": \"closest\", \"mapbox\": {\"style\": \"light\"}, \"paper_bgcolor\": \"white\", \"plot_bgcolor\": \"#E5ECF6\", \"polar\": {\"angularaxis\": {\"gridcolor\": \"white\", \"linecolor\": \"white\", \"ticks\": \"\"}, \"bgcolor\": \"#E5ECF6\", \"radialaxis\": {\"gridcolor\": \"white\", \"linecolor\": \"white\", \"ticks\": \"\"}}, \"scene\": {\"xaxis\": {\"backgroundcolor\": \"#E5ECF6\", \"gridcolor\": \"white\", \"gridwidth\": 2, \"linecolor\": \"white\", \"showbackground\": true, \"ticks\": \"\", \"zerolinecolor\": \"white\"}, \"yaxis\": {\"backgroundcolor\": \"#E5ECF6\", \"gridcolor\": \"white\", \"gridwidth\": 2, \"linecolor\": \"white\", \"showbackground\": true, \"ticks\": \"\", \"zerolinecolor\": \"white\"}, \"zaxis\": {\"backgroundcolor\": \"#E5ECF6\", \"gridcolor\": \"white\", \"gridwidth\": 2, \"linecolor\": \"white\", \"showbackground\": true, \"ticks\": \"\", \"zerolinecolor\": \"white\"}}, \"shapedefaults\": {\"line\": {\"color\": \"#2a3f5f\"}}, \"ternary\": {\"aaxis\": {\"gridcolor\": \"white\", \"linecolor\": \"white\", \"ticks\": \"\"}, \"baxis\": {\"gridcolor\": \"white\", \"linecolor\": \"white\", \"ticks\": \"\"}, \"bgcolor\": \"#E5ECF6\", \"caxis\": {\"gridcolor\": \"white\", \"linecolor\": \"white\", \"ticks\": \"\"}}, \"title\": {\"x\": 0.05}, \"xaxis\": {\"automargin\": true, \"gridcolor\": \"white\", \"linecolor\": \"white\", \"ticks\": \"\", \"title\": {\"standoff\": 15}, \"zerolinecolor\": \"white\", \"zerolinewidth\": 2}, \"yaxis\": {\"automargin\": true, \"gridcolor\": \"white\", \"linecolor\": \"white\", \"ticks\": \"\", \"title\": {\"standoff\": 15}, \"zerolinecolor\": \"white\", \"zerolinewidth\": 2}}}, \"updatemenus\": [{\"active\": 0, \"buttons\": [{\"args\": [{\"y\": [[6697.875, 35.89845243786126, 395.0, 842.5363636363633, 2538.0, 1232.12987012987, 947.9999999999999, 98227.0]]}], \"label\": \"followers_count\", \"method\": \"restyle\"}, {\"args\": [{\"y\": [[3358.8750000000005, 59.70324450286701, 348.0, 545.0090909090904, 0.0, 820.7662337662338, 0.0, 232.0]]}], \"label\": \"friends_count\", \"method\": \"restyle\"}, {\"args\": [{\"y\": [[123612.375, 131.4898422562373, 1082327.0, 12031.824999999979, 2547.0, 44372.40259740258, 206.0, 29552.5]]}], \"label\": \"statuses_count\", \"method\": \"restyle\"}, {\"args\": [{\"y\": [[49.843333333333334, 26.429058715742553, 47.276666666666664, 39.71810606060606, 18.776666666666667, 44.33207792207793, 22.796666666666667, 55.97666666666666]]}], \"label\": \"account_age_months\", \"method\": \"restyle\"}, {\"args\": [{\"y\": [[2708.311636361466, 7.769685740061929, 22893.471056899107, 411.01046441661254, 135.6470797088585, 1122.8224136261508, 13.760311102043657, 542.6925232832488]]}], \"label\": \"statuses_per_month\", \"method\": \"restyle\"}, {\"args\": [{\"y\": [[44.98453709449697, 17.855576301202237, 1.1350248556075968, 5.356522003022633, 253800.0, 2.458696261686441, 94800.0, 1346.9938620415317]]}], \"label\": \"followers_ratio\", \"method\": \"restyle\"}, {\"args\": [{\"y\": [[0.4745662809712423, 0.321118028567458, 0.8646875, 0.4469755848386771, 0.3276999175597692, 0.4634733177371989, 0.5460185605160659, 0.30484744901305005]]}], \"label\": \"prop_tweets\", \"method\": \"restyle\"}, {\"args\": [{\"y\": [[0.1298865581311409, 0.11415562669065658, 0.004375000000000004, 0.20630442711381278, 0.05688375927452597, 0.21759443799092293, 0.25398143948393415, 0.43696307954619973]]}], \"label\": \"prop_replies\", \"method\": \"restyle\"}, {\"args\": [{\"y\": [[0.1455471608976168, 0.06598112485660988, 0.1309375, 0.2149018062293283, 0.6154163231657048, 0.22802315336278725, 0.0, 0.2581894714407502]]}], \"label\": \"prop_rt\", \"method\": \"restyle\"}, {\"args\": [{\"y\": [[0.07598324219282937, 0.0935509218987331, 0.194375, 0.17058469437045287, 0.0717230008244023, 0.13923125549668866, 0.42697055347140145, 0.09451234507180799]]}], \"label\": \"avg_hashtags\", \"method\": \"restyle\"}, {\"args\": [{\"y\": [[0.23266843130901438, 0.09575109722206776, 0.0415625, 0.13174767857811157, 0.005358615004122005, 0.13709167113674778, 0.24688493640247275, 0.060611351564036985]]}], \"label\": \"avg_urls\", \"method\": \"restyle\"}, {\"args\": [{\"y\": [[0.37719329607424046, 0.24434831270026697, 0.140625, 0.5646198797181352, 0.6356141797197032, 0.5786532979945802, 0.29000290838187465, 1.390989163223818]]}], \"label\": \"avg_mentions\", \"method\": \"restyle\"}], \"x\": 1.1, \"xanchor\": \"left\", \"y\": 1, \"yanchor\": \"top\"}, {\"active\": 0, \"buttons\": [{\"args\": [{\"x\": [[6697.875, 35.89845243786126, 395.0, 842.5363636363633, 2538.0, 1232.12987012987, 947.9999999999999, 98227.0]]}], \"label\": \"followers_count\", \"method\": \"restyle\"}, {\"args\": [{\"x\": [[3358.8750000000005, 59.70324450286701, 348.0, 545.0090909090904, 0.0, 820.7662337662338, 0.0, 232.0]]}], \"label\": \"friends_count\", \"method\": \"restyle\"}, {\"args\": [{\"x\": [[123612.375, 131.4898422562373, 1082327.0, 12031.824999999979, 2547.0, 44372.40259740258, 206.0, 29552.5]]}], \"label\": \"statuses_count\", \"method\": \"restyle\"}, {\"args\": [{\"x\": [[49.843333333333334, 26.429058715742553, 47.276666666666664, 39.71810606060606, 18.776666666666667, 44.33207792207793, 22.796666666666667, 55.97666666666666]]}], \"label\": \"account_age_months\", \"method\": \"restyle\"}, {\"args\": [{\"x\": [[2708.311636361466, 7.769685740061929, 22893.471056899107, 411.01046441661254, 135.6470797088585, 1122.8224136261508, 13.760311102043657, 542.6925232832488]]}], \"label\": \"statuses_per_month\", \"method\": \"restyle\"}, {\"args\": [{\"x\": [[44.98453709449697, 17.855576301202237, 1.1350248556075968, 5.356522003022633, 253800.0, 2.458696261686441, 94800.0, 1346.9938620415317]]}], \"label\": \"followers_ratio\", \"method\": \"restyle\"}, {\"args\": [{\"x\": [[0.4745662809712423, 0.321118028567458, 0.8646875, 0.4469755848386771, 0.3276999175597692, 0.4634733177371989, 0.5460185605160659, 0.30484744901305005]]}], \"label\": \"prop_tweets\", \"method\": \"restyle\"}, {\"args\": [{\"x\": [[0.1298865581311409, 0.11415562669065658, 0.004375000000000004, 0.20630442711381278, 0.05688375927452597, 0.21759443799092293, 0.25398143948393415, 0.43696307954619973]]}], \"label\": \"prop_replies\", \"method\": \"restyle\"}, {\"args\": [{\"x\": [[0.1455471608976168, 0.06598112485660988, 0.1309375, 0.2149018062293283, 0.6154163231657048, 0.22802315336278725, 0.0, 0.2581894714407502]]}], \"label\": \"prop_rt\", \"method\": \"restyle\"}, {\"args\": [{\"x\": [[0.07598324219282937, 0.0935509218987331, 0.194375, 0.17058469437045287, 0.0717230008244023, 0.13923125549668866, 0.42697055347140145, 0.09451234507180799]]}], \"label\": \"avg_hashtags\", \"method\": \"restyle\"}, {\"args\": [{\"x\": [[0.23266843130901438, 0.09575109722206776, 0.0415625, 0.13174767857811157, 0.005358615004122005, 0.13709167113674778, 0.24688493640247275, 0.060611351564036985]]}], \"label\": \"avg_urls\", \"method\": \"restyle\"}, {\"args\": [{\"x\": [[0.37719329607424046, 0.24434831270026697, 0.140625, 0.5646198797181352, 0.6356141797197032, 0.5786532979945802, 0.29000290838187465, 1.390989163223818]]}], \"label\": \"avg_mentions\", \"method\": \"restyle\"}], \"x\": 1.1, \"xanchor\": \"left\", \"y\": 0.8, \"yanchor\": \"top\"}], \"width\": 800},                        {\"responsive\": true}                    ).then(function(){\n",
       "                            \n",
       "var gd = document.getElementById('83251378-d154-4b27-a95b-dc18525f39eb');\n",
       "var x = new MutationObserver(function (mutations, observer) {{\n",
       "        var display = window.getComputedStyle(gd).display;\n",
       "        if (!display || display === 'none') {{\n",
       "            console.log([gd, 'removed!']);\n",
       "            Plotly.purge(gd);\n",
       "            observer.disconnect();\n",
       "        }}\n",
       "}});\n",
       "\n",
       "// Listen for the removal of the full notebook cells\n",
       "var notebookContainer = gd.closest('#notebook-container');\n",
       "if (notebookContainer) {{\n",
       "    x.observe(notebookContainer, {childList: true});\n",
       "}}\n",
       "\n",
       "// Listen for the clearing of the current output cell\n",
       "var outputEl = gd.closest('.output');\n",
       "if (outputEl) {{\n",
       "    x.observe(outputEl, {childList: true});\n",
       "}}\n",
       "\n",
       "                        })                };                });            </script>        </div>"
      ]
     },
     "metadata": {},
     "output_type": "display_data"
    }
   ],
   "source": [
    "fig = go.Figure(go.Scatter(x=centres['followers_count'], \n",
    "                           y=centres['friends_count'], \n",
    "                           mode='markers', marker_size=15, \n",
    "                           marker_color = colors[:len(centres)] ))\n",
    "\n",
    "buttons_x = [dict(method = \"restyle\",\n",
    "                   args = [{'y': [ centres[feature_names[c]] ]}],\n",
    "                   label = feature_names[c]) for c in range(len(feature_names))]\n",
    "buttons_y = [dict(method = \"restyle\",\n",
    "                   args = [{'x': [ centres[feature_names[c]] ]}],\n",
    "                   label = feature_names[c]) for c in range(len(feature_names))]\n",
    "\n",
    "fig.update_layout(width=800, height=400,\n",
    "                 updatemenus=[dict(active=0,\n",
    "                                   x= 1.1, y=1, \n",
    "                                   xanchor='left', \n",
    "                                   yanchor='top',\n",
    "                                   buttons=buttons_x),\n",
    "                              \n",
    "                               dict(active=0,\n",
    "                                   x= 1.1, y=0.8, \n",
    "                                   xanchor='left', \n",
    "                                   yanchor='top',\n",
    "                                   buttons=buttons_y)\n",
    "                              ])  \n",
    "iplot(fig)"
   ]
  },
  {
   "cell_type": "code",
   "execution_count": null,
   "metadata": {},
   "outputs": [],
   "source": []
  }
 ],
 "metadata": {
  "kernelspec": {
   "display_name": "Python 3",
   "language": "python",
   "name": "python3"
  },
  "language_info": {
   "codemirror_mode": {
    "name": "ipython",
    "version": 3
   },
   "file_extension": ".py",
   "mimetype": "text/x-python",
   "name": "python",
   "nbconvert_exporter": "python",
   "pygments_lexer": "ipython3",
   "version": "3.8.3"
  }
 },
 "nbformat": 4,
 "nbformat_minor": 4
}
